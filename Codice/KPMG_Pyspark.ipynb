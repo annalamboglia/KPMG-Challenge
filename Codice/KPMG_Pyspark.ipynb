{
  "cells": [
    {
      "cell_type": "markdown",
      "metadata": {
        "id": "L87GC0B7WXZN"
      },
      "source": [
        "### 1. Installation"
      ]
    },
    {
      "cell_type": "code",
      "source": [
        "# Run below commands in google colab\n",
        "# install Java8\n",
        "!apt-get install openjdk-8-jdk-headless -qq > /dev/null\n",
        "# download spark3.0.0\n",
        "!wget -q http://apache.osuosl.org/spark/spark-3.2.1/spark-3.2.1-bin-hadoop3.2.tgz\n",
        "# unzip it\n",
        "!tar xf spark-3.2.1-bin-hadoop3.2.tgz\n",
        "# install findspark \n",
        "!pip install -q findspark\n"
      ],
      "metadata": {
        "id": "0ANLb5NdTNSP"
      },
      "execution_count": null,
      "outputs": []
    },
    {
      "cell_type": "markdown",
      "metadata": {
        "id": "4r2_K8dUWqsr"
      },
      "source": [
        "Download and install Apache Spark 3.2.1, along with its dependencies (Java Development Kit 8+)"
      ]
    },
    {
      "cell_type": "markdown",
      "metadata": {
        "id": "BQkhvC3SW2vC"
      },
      "source": [
        "Set Environment Variables to make the Spark runtime visible to Linux OS. Please, note that you can manage multiple versions of spark by pointing to the correct version through environment variables. Run below set of commands to point to Apache Spark 3.2.1 version downloaded earlier."
      ]
    },
    {
      "cell_type": "code",
      "execution_count": null,
      "metadata": {
        "id": "V-ZndeGfXN5m"
      },
      "outputs": [],
      "source": [
        "import os\n",
        "os.environ[\"JAVA_HOME\"] = \"/usr/lib/jvm/java-8-openjdk-amd64\"\n",
        "os.environ[\"SPARK_HOME\"] = \"/content/spark-3.2.1-bin-hadoop3.2\""
      ]
    },
    {
      "cell_type": "markdown",
      "metadata": {
        "id": "2mbVIf0hXfVA"
      },
      "source": [
        "Test the installation worked successfully."
      ]
    },
    {
      "cell_type": "code",
      "execution_count": null,
      "metadata": {
        "id": "8vn4ZFqFXefa"
      },
      "outputs": [],
      "source": [
        "import findspark\n",
        "findspark.init()"
      ]
    },
    {
      "cell_type": "code",
      "execution_count": null,
      "metadata": {
        "id": "XHRmDBHXWWKJ"
      },
      "outputs": [],
      "source": [
        "# Verify the Spark version running on the virtual cluster\n",
        "from pyspark.context import SparkContext\n",
        "sc = SparkContext.getOrCreate()\n",
        "\n",
        "assert  \"3.\" in sc.version, \"Verify that the cluster Spark's version is 3.x\""
      ]
    },
    {
      "cell_type": "markdown",
      "metadata": {
        "id": "BShrmAX7WWKO"
      },
      "source": [
        "If the environment is not configured properly, the instruction will show the Spark's version that would not be the 3.0."
      ]
    },
    {
      "cell_type": "code",
      "execution_count": null,
      "metadata": {
        "colab": {
          "base_uri": "https://localhost:8080/"
        },
        "id": "AqJb0KERzN8W",
        "outputId": "f51b7650-e76a-4c77-bad0-278a10a3a99b"
      },
      "outputs": [
        {
          "output_type": "stream",
          "name": "stdout",
          "text": [
            "<pyspark.sql.session.SparkSession object at 0x7f95f25bc390>\n"
          ]
        }
      ],
      "source": [
        "from pyspark.sql import SparkSession\n",
        "spark = SparkSession(sc)\n",
        "print(spark)"
      ]
    },
    {
      "cell_type": "code",
      "execution_count": null,
      "metadata": {
        "colab": {
          "base_uri": "https://localhost:8080/"
        },
        "id": "HbIi7CQowQlb",
        "outputId": "944838aa-f1a6-419b-8c33-18f29606b8b1"
      },
      "outputs": [
        {
          "output_type": "stream",
          "name": "stdout",
          "text": [
            "Mounted at /content/drive\n"
          ]
        }
      ],
      "source": [
        "#Collegamento al Drive\n",
        "from google.colab import drive\n",
        "drive.mount('/content/drive')"
      ]
    },
    {
      "cell_type": "code",
      "source": [
        "#importing libraries\n",
        "import numpy as np\n",
        "import pandas as pd\n",
        "import matplotlib.pyplot as plt\n",
        "import seaborn as sns; sns.set()"
      ],
      "metadata": {
        "id": "Rd3EkTZY46I7"
      },
      "execution_count": null,
      "outputs": []
    },
    {
      "cell_type": "markdown",
      "source": [
        "#Pyspark"
      ],
      "metadata": {
        "id": "xztpUx5Q04HE"
      }
    },
    {
      "cell_type": "code",
      "source": [
        "with open(\"/content/drive/MyDrive/KPMG/RegressionDataset.xlsx\", 'rb') as fp:\n",
        "    df = pd.read_excel(fp)\n"
      ],
      "metadata": {
        "id": "AcPcw_F0_eP-"
      },
      "execution_count": null,
      "outputs": []
    },
    {
      "cell_type": "code",
      "source": [
        "df"
      ],
      "metadata": {
        "colab": {
          "base_uri": "https://localhost:8080/",
          "height": 424
        },
        "id": "E0BOGZJ3AOXw",
        "outputId": "84fb2ace-267f-4b74-f4a8-96964acfaa32"
      },
      "execution_count": null,
      "outputs": [
        {
          "output_type": "execute_result",
          "data": {
            "text/plain": [
              "    AnnoAccademico  Ateneo  PopolazioneP  AteneiP  PopolazioneR  AteneiR  \\\n",
              "0        2010/2011   Aosta        126957        1        126957        1   \n",
              "1        2011/2012   Aosta        127153        1        127153        1   \n",
              "2        2012/2013   Aosta        127305        1        127305        1   \n",
              "3        2013/2014   Aosta        127951        1        127951        1   \n",
              "4        2014/2015   Aosta        128245        1        128245        1   \n",
              "..             ...     ...           ...      ...           ...      ...   \n",
              "644      2016/2017  Verona        918050        1       4890648        4   \n",
              "645      2017/2018  Verona        918069        1       4883373        4   \n",
              "646      2018/2019  Verona        919179        1       4880936        4   \n",
              "647      2019/2020  Verona        922857        1       4884590        4   \n",
              "648      2020/2021  Verona        927108        1       4870000        4   \n",
              "\n",
              "     Fuorisede  Immatricolati  \n",
              "0           31            188  \n",
              "1           21            172  \n",
              "2           31            173  \n",
              "3           54            192  \n",
              "4           52            181  \n",
              "..         ...            ...  \n",
              "644       2509           4553  \n",
              "645       2477           4484  \n",
              "646       2098           3874  \n",
              "647       2082           3785  \n",
              "648       2547           4718  \n",
              "\n",
              "[649 rows x 8 columns]"
            ],
            "text/html": [
              "\n",
              "  <div id=\"df-fe9465aa-13c9-401e-9fae-d4da99ee7e0e\">\n",
              "    <div class=\"colab-df-container\">\n",
              "      <div>\n",
              "<style scoped>\n",
              "    .dataframe tbody tr th:only-of-type {\n",
              "        vertical-align: middle;\n",
              "    }\n",
              "\n",
              "    .dataframe tbody tr th {\n",
              "        vertical-align: top;\n",
              "    }\n",
              "\n",
              "    .dataframe thead th {\n",
              "        text-align: right;\n",
              "    }\n",
              "</style>\n",
              "<table border=\"1\" class=\"dataframe\">\n",
              "  <thead>\n",
              "    <tr style=\"text-align: right;\">\n",
              "      <th></th>\n",
              "      <th>AnnoAccademico</th>\n",
              "      <th>Ateneo</th>\n",
              "      <th>PopolazioneP</th>\n",
              "      <th>AteneiP</th>\n",
              "      <th>PopolazioneR</th>\n",
              "      <th>AteneiR</th>\n",
              "      <th>Fuorisede</th>\n",
              "      <th>Immatricolati</th>\n",
              "    </tr>\n",
              "  </thead>\n",
              "  <tbody>\n",
              "    <tr>\n",
              "      <th>0</th>\n",
              "      <td>2010/2011</td>\n",
              "      <td>Aosta</td>\n",
              "      <td>126957</td>\n",
              "      <td>1</td>\n",
              "      <td>126957</td>\n",
              "      <td>1</td>\n",
              "      <td>31</td>\n",
              "      <td>188</td>\n",
              "    </tr>\n",
              "    <tr>\n",
              "      <th>1</th>\n",
              "      <td>2011/2012</td>\n",
              "      <td>Aosta</td>\n",
              "      <td>127153</td>\n",
              "      <td>1</td>\n",
              "      <td>127153</td>\n",
              "      <td>1</td>\n",
              "      <td>21</td>\n",
              "      <td>172</td>\n",
              "    </tr>\n",
              "    <tr>\n",
              "      <th>2</th>\n",
              "      <td>2012/2013</td>\n",
              "      <td>Aosta</td>\n",
              "      <td>127305</td>\n",
              "      <td>1</td>\n",
              "      <td>127305</td>\n",
              "      <td>1</td>\n",
              "      <td>31</td>\n",
              "      <td>173</td>\n",
              "    </tr>\n",
              "    <tr>\n",
              "      <th>3</th>\n",
              "      <td>2013/2014</td>\n",
              "      <td>Aosta</td>\n",
              "      <td>127951</td>\n",
              "      <td>1</td>\n",
              "      <td>127951</td>\n",
              "      <td>1</td>\n",
              "      <td>54</td>\n",
              "      <td>192</td>\n",
              "    </tr>\n",
              "    <tr>\n",
              "      <th>4</th>\n",
              "      <td>2014/2015</td>\n",
              "      <td>Aosta</td>\n",
              "      <td>128245</td>\n",
              "      <td>1</td>\n",
              "      <td>128245</td>\n",
              "      <td>1</td>\n",
              "      <td>52</td>\n",
              "      <td>181</td>\n",
              "    </tr>\n",
              "    <tr>\n",
              "      <th>...</th>\n",
              "      <td>...</td>\n",
              "      <td>...</td>\n",
              "      <td>...</td>\n",
              "      <td>...</td>\n",
              "      <td>...</td>\n",
              "      <td>...</td>\n",
              "      <td>...</td>\n",
              "      <td>...</td>\n",
              "    </tr>\n",
              "    <tr>\n",
              "      <th>644</th>\n",
              "      <td>2016/2017</td>\n",
              "      <td>Verona</td>\n",
              "      <td>918050</td>\n",
              "      <td>1</td>\n",
              "      <td>4890648</td>\n",
              "      <td>4</td>\n",
              "      <td>2509</td>\n",
              "      <td>4553</td>\n",
              "    </tr>\n",
              "    <tr>\n",
              "      <th>645</th>\n",
              "      <td>2017/2018</td>\n",
              "      <td>Verona</td>\n",
              "      <td>918069</td>\n",
              "      <td>1</td>\n",
              "      <td>4883373</td>\n",
              "      <td>4</td>\n",
              "      <td>2477</td>\n",
              "      <td>4484</td>\n",
              "    </tr>\n",
              "    <tr>\n",
              "      <th>646</th>\n",
              "      <td>2018/2019</td>\n",
              "      <td>Verona</td>\n",
              "      <td>919179</td>\n",
              "      <td>1</td>\n",
              "      <td>4880936</td>\n",
              "      <td>4</td>\n",
              "      <td>2098</td>\n",
              "      <td>3874</td>\n",
              "    </tr>\n",
              "    <tr>\n",
              "      <th>647</th>\n",
              "      <td>2019/2020</td>\n",
              "      <td>Verona</td>\n",
              "      <td>922857</td>\n",
              "      <td>1</td>\n",
              "      <td>4884590</td>\n",
              "      <td>4</td>\n",
              "      <td>2082</td>\n",
              "      <td>3785</td>\n",
              "    </tr>\n",
              "    <tr>\n",
              "      <th>648</th>\n",
              "      <td>2020/2021</td>\n",
              "      <td>Verona</td>\n",
              "      <td>927108</td>\n",
              "      <td>1</td>\n",
              "      <td>4870000</td>\n",
              "      <td>4</td>\n",
              "      <td>2547</td>\n",
              "      <td>4718</td>\n",
              "    </tr>\n",
              "  </tbody>\n",
              "</table>\n",
              "<p>649 rows × 8 columns</p>\n",
              "</div>\n",
              "      <button class=\"colab-df-convert\" onclick=\"convertToInteractive('df-fe9465aa-13c9-401e-9fae-d4da99ee7e0e')\"\n",
              "              title=\"Convert this dataframe to an interactive table.\"\n",
              "              style=\"display:none;\">\n",
              "        \n",
              "  <svg xmlns=\"http://www.w3.org/2000/svg\" height=\"24px\"viewBox=\"0 0 24 24\"\n",
              "       width=\"24px\">\n",
              "    <path d=\"M0 0h24v24H0V0z\" fill=\"none\"/>\n",
              "    <path d=\"M18.56 5.44l.94 2.06.94-2.06 2.06-.94-2.06-.94-.94-2.06-.94 2.06-2.06.94zm-11 1L8.5 8.5l.94-2.06 2.06-.94-2.06-.94L8.5 2.5l-.94 2.06-2.06.94zm10 10l.94 2.06.94-2.06 2.06-.94-2.06-.94-.94-2.06-.94 2.06-2.06.94z\"/><path d=\"M17.41 7.96l-1.37-1.37c-.4-.4-.92-.59-1.43-.59-.52 0-1.04.2-1.43.59L10.3 9.45l-7.72 7.72c-.78.78-.78 2.05 0 2.83L4 21.41c.39.39.9.59 1.41.59.51 0 1.02-.2 1.41-.59l7.78-7.78 2.81-2.81c.8-.78.8-2.07 0-2.86zM5.41 20L4 18.59l7.72-7.72 1.47 1.35L5.41 20z\"/>\n",
              "  </svg>\n",
              "      </button>\n",
              "      \n",
              "  <style>\n",
              "    .colab-df-container {\n",
              "      display:flex;\n",
              "      flex-wrap:wrap;\n",
              "      gap: 12px;\n",
              "    }\n",
              "\n",
              "    .colab-df-convert {\n",
              "      background-color: #E8F0FE;\n",
              "      border: none;\n",
              "      border-radius: 50%;\n",
              "      cursor: pointer;\n",
              "      display: none;\n",
              "      fill: #1967D2;\n",
              "      height: 32px;\n",
              "      padding: 0 0 0 0;\n",
              "      width: 32px;\n",
              "    }\n",
              "\n",
              "    .colab-df-convert:hover {\n",
              "      background-color: #E2EBFA;\n",
              "      box-shadow: 0px 1px 2px rgba(60, 64, 67, 0.3), 0px 1px 3px 1px rgba(60, 64, 67, 0.15);\n",
              "      fill: #174EA6;\n",
              "    }\n",
              "\n",
              "    [theme=dark] .colab-df-convert {\n",
              "      background-color: #3B4455;\n",
              "      fill: #D2E3FC;\n",
              "    }\n",
              "\n",
              "    [theme=dark] .colab-df-convert:hover {\n",
              "      background-color: #434B5C;\n",
              "      box-shadow: 0px 1px 3px 1px rgba(0, 0, 0, 0.15);\n",
              "      filter: drop-shadow(0px 1px 2px rgba(0, 0, 0, 0.3));\n",
              "      fill: #FFFFFF;\n",
              "    }\n",
              "  </style>\n",
              "\n",
              "      <script>\n",
              "        const buttonEl =\n",
              "          document.querySelector('#df-fe9465aa-13c9-401e-9fae-d4da99ee7e0e button.colab-df-convert');\n",
              "        buttonEl.style.display =\n",
              "          google.colab.kernel.accessAllowed ? 'block' : 'none';\n",
              "\n",
              "        async function convertToInteractive(key) {\n",
              "          const element = document.querySelector('#df-fe9465aa-13c9-401e-9fae-d4da99ee7e0e');\n",
              "          const dataTable =\n",
              "            await google.colab.kernel.invokeFunction('convertToInteractive',\n",
              "                                                     [key], {});\n",
              "          if (!dataTable) return;\n",
              "\n",
              "          const docLinkHtml = 'Like what you see? Visit the ' +\n",
              "            '<a target=\"_blank\" href=https://colab.research.google.com/notebooks/data_table.ipynb>data table notebook</a>'\n",
              "            + ' to learn more about interactive tables.';\n",
              "          element.innerHTML = '';\n",
              "          dataTable['output_type'] = 'display_data';\n",
              "          await google.colab.output.renderOutput(dataTable, element);\n",
              "          const docLink = document.createElement('div');\n",
              "          docLink.innerHTML = docLinkHtml;\n",
              "          element.appendChild(docLink);\n",
              "        }\n",
              "      </script>\n",
              "    </div>\n",
              "  </div>\n",
              "  "
            ]
          },
          "metadata": {},
          "execution_count": 68
        }
      ]
    },
    {
      "cell_type": "code",
      "source": [
        "df=df.to_dict('records')"
      ],
      "metadata": {
        "id": "BekuYz36_tzY"
      },
      "execution_count": null,
      "outputs": []
    },
    {
      "cell_type": "code",
      "source": [
        "import json\n",
        "\n",
        "path = \"/content/drive/MyDrive/KPMG/\"\n",
        "\n",
        "with open(path + 'RegressionDataset.json', 'w') as jsonfile:\n",
        "    json.dump(df, jsonfile)"
      ],
      "metadata": {
        "id": "Ylpmk_8__x-X"
      },
      "execution_count": null,
      "outputs": []
    },
    {
      "cell_type": "code",
      "source": [
        "# Read JSON file into dataframe\n",
        "path = \"/content/drive/MyDrive/KPMG/\"\n",
        "\n",
        "df_spark = spark.read.json(path + 'RegressionDataset.json')\n",
        "df_spark.printSchema()\n",
        "df_spark.show()"
      ],
      "metadata": {
        "colab": {
          "base_uri": "https://localhost:8080/"
        },
        "id": "Zr3R1D3v03cM",
        "outputId": "39369003-acc0-4d58-8f31-02319e918745"
      },
      "execution_count": null,
      "outputs": [
        {
          "output_type": "stream",
          "name": "stdout",
          "text": [
            "root\n",
            " |-- AnnoAccademico: string (nullable = true)\n",
            " |-- AteneiP: long (nullable = true)\n",
            " |-- AteneiR: long (nullable = true)\n",
            " |-- Ateneo: string (nullable = true)\n",
            " |-- Fuorisede: long (nullable = true)\n",
            " |-- Immatricolati: long (nullable = true)\n",
            " |-- PopolazioneP: long (nullable = true)\n",
            " |-- PopolazioneR: long (nullable = true)\n",
            "\n",
            "+--------------+-------+-------+------+---------+-------------+------------+------------+\n",
            "|AnnoAccademico|AteneiP|AteneiR|Ateneo|Fuorisede|Immatricolati|PopolazioneP|PopolazioneR|\n",
            "+--------------+-------+-------+------+---------+-------------+------------+------------+\n",
            "|     2010/2011|      1|      1| Aosta|       31|          188|      126957|      126957|\n",
            "|     2011/2012|      1|      1| Aosta|       21|          172|      127153|      127153|\n",
            "|     2012/2013|      1|      1| Aosta|       31|          173|      127305|      127305|\n",
            "|     2013/2014|      1|      1| Aosta|       54|          192|      127951|      127951|\n",
            "|     2014/2015|      1|      1| Aosta|       52|          181|      128245|      128245|\n",
            "|     2015/2016|      1|      1| Aosta|       70|          185|      127972|      127972|\n",
            "|     2016/2017|      1|      1| Aosta|       47|          166|      127030|      127030|\n",
            "|     2017/2018|      1|      1| Aosta|       59|          185|      126677|      126677|\n",
            "|     2018/2019|      1|      1| Aosta|       64|          189|      126213|      126213|\n",
            "|     2019/2020|      1|      1| Aosta|       65|          192|      125653|      125653|\n",
            "|     2020/2021|      1|      1| Aosta|       73|          244|      124000|      124000|\n",
            "|     2010/2011|      2|      3|  Bari|     4001|         9066|     1251412|     4090111|\n",
            "|     2011/2012|      2|      3|  Bari|     4005|         8865|     1257549|     4101558|\n",
            "|     2012/2013|      2|      3|  Bari|     3698|         8264|     1259733|     4102797|\n",
            "|     2013/2014|      2|      3|  Bari|     3545|         8004|     1258054|     4090530|\n",
            "|     2014/2015|      2|      3|  Bari|     3452|         7795|     1256495|     4077788|\n",
            "|     2015/2016|      2|      3|  Bari|     3083|         7240|     1253461|     4063269|\n",
            "|     2016/2017|      2|      3|  Bari|     3110|         7127|     1249699|     4043735|\n",
            "|     2017/2018|      2|      3|  Bari|     3039|         7118|     1245190|     4024067|\n",
            "|     2018/2019|      2|      3|  Bari|     2997|         7195|     1240589|     4000966|\n",
            "+--------------+-------+-------+------+---------+-------------+------------+------------+\n",
            "only showing top 20 rows\n",
            "\n"
          ]
        }
      ]
    },
    {
      "cell_type": "code",
      "source": [
        "df_spark=df_spark.na.drop()\n"
      ],
      "metadata": {
        "id": "f0FfgUwZKqEl"
      },
      "execution_count": null,
      "outputs": []
    },
    {
      "cell_type": "code",
      "source": [
        "from pyspark.sql.functions import col, split\n",
        "df = df_spark.withColumn(\"Ateneo_Array\", split(col(\"Ateneo\"),\" \"))\n",
        "df = df.withColumn('AnnoAccademico_Array', split(col(\"AnnoAccademico\"),\" \"))\n",
        "df.show()"
      ],
      "metadata": {
        "colab": {
          "base_uri": "https://localhost:8080/"
        },
        "id": "CamZtd0DBRWc",
        "outputId": "3d5f0147-c13a-4f66-f7e7-eadc8bd93cf9"
      },
      "execution_count": null,
      "outputs": [
        {
          "output_type": "stream",
          "name": "stdout",
          "text": [
            "+--------------+-------+-------+------+---------+-------------+------------+------------+------------+--------------------+\n",
            "|AnnoAccademico|AteneiP|AteneiR|Ateneo|Fuorisede|Immatricolati|PopolazioneP|PopolazioneR|Ateneo_Array|AnnoAccademico_Array|\n",
            "+--------------+-------+-------+------+---------+-------------+------------+------------+------------+--------------------+\n",
            "|     2010/2011|      1|      1| Aosta|       31|          188|      126957|      126957|     [Aosta]|         [2010/2011]|\n",
            "|     2011/2012|      1|      1| Aosta|       21|          172|      127153|      127153|     [Aosta]|         [2011/2012]|\n",
            "|     2012/2013|      1|      1| Aosta|       31|          173|      127305|      127305|     [Aosta]|         [2012/2013]|\n",
            "|     2013/2014|      1|      1| Aosta|       54|          192|      127951|      127951|     [Aosta]|         [2013/2014]|\n",
            "|     2014/2015|      1|      1| Aosta|       52|          181|      128245|      128245|     [Aosta]|         [2014/2015]|\n",
            "|     2015/2016|      1|      1| Aosta|       70|          185|      127972|      127972|     [Aosta]|         [2015/2016]|\n",
            "|     2016/2017|      1|      1| Aosta|       47|          166|      127030|      127030|     [Aosta]|         [2016/2017]|\n",
            "|     2017/2018|      1|      1| Aosta|       59|          185|      126677|      126677|     [Aosta]|         [2017/2018]|\n",
            "|     2018/2019|      1|      1| Aosta|       64|          189|      126213|      126213|     [Aosta]|         [2018/2019]|\n",
            "|     2019/2020|      1|      1| Aosta|       65|          192|      125653|      125653|     [Aosta]|         [2019/2020]|\n",
            "|     2020/2021|      1|      1| Aosta|       73|          244|      124000|      124000|     [Aosta]|         [2020/2021]|\n",
            "|     2010/2011|      2|      3|  Bari|     4001|         9066|     1251412|     4090111|      [Bari]|         [2010/2011]|\n",
            "|     2011/2012|      2|      3|  Bari|     4005|         8865|     1257549|     4101558|      [Bari]|         [2011/2012]|\n",
            "|     2012/2013|      2|      3|  Bari|     3698|         8264|     1259733|     4102797|      [Bari]|         [2012/2013]|\n",
            "|     2013/2014|      2|      3|  Bari|     3545|         8004|     1258054|     4090530|      [Bari]|         [2013/2014]|\n",
            "|     2014/2015|      2|      3|  Bari|     3452|         7795|     1256495|     4077788|      [Bari]|         [2014/2015]|\n",
            "|     2015/2016|      2|      3|  Bari|     3083|         7240|     1253461|     4063269|      [Bari]|         [2015/2016]|\n",
            "|     2016/2017|      2|      3|  Bari|     3110|         7127|     1249699|     4043735|      [Bari]|         [2016/2017]|\n",
            "|     2017/2018|      2|      3|  Bari|     3039|         7118|     1245190|     4024067|      [Bari]|         [2017/2018]|\n",
            "|     2018/2019|      2|      3|  Bari|     2997|         7195|     1240589|     4000966|      [Bari]|         [2018/2019]|\n",
            "+--------------+-------+-------+------+---------+-------------+------------+------------+------------+--------------------+\n",
            "only showing top 20 rows\n",
            "\n"
          ]
        }
      ]
    },
    {
      "cell_type": "code",
      "source": [
        "#Import Spark CountVectorizer\n",
        "from pyspark.ml.feature import CountVectorizer\n",
        "\n",
        "# Initialize a CountVectorizer.\n",
        "colorVectorizer = CountVectorizer(inputCol=\"Ateneo_Array\", outputCol=\"Ateneo_OneHotEncoded\", vocabSize=4, minDF=1.0)\n",
        "\n",
        "#Get a VectorizerModel\n",
        "colorVectorizer_model = colorVectorizer.fit(df)\n",
        "df_ohe = colorVectorizer_model.transform(df)\n",
        "\n",
        "# Initialize a CountVectorizer.\n",
        "colorVectorizer = CountVectorizer(inputCol=\"AnnoAccademico_Array\", outputCol=\"AnnoAccademico_OneHotEncoded\", vocabSize=4, minDF=1.0)\n",
        "\n",
        "#Get a VectorizerModel\n",
        "colorVectorizer_model = colorVectorizer.fit(df)\n",
        "df_ohe = colorVectorizer_model.transform(df_ohe)\n",
        "df_ohe.show(truncate=False)\n"
      ],
      "metadata": {
        "colab": {
          "base_uri": "https://localhost:8080/"
        },
        "id": "ZFtrqDktCY3Y",
        "outputId": "fbfe719d-bb7f-417a-dfa5-03d2431a2d06"
      },
      "execution_count": null,
      "outputs": [
        {
          "output_type": "stream",
          "name": "stdout",
          "text": [
            "+--------------+-------+-------+------+---------+-------------+------------+------------+------------+--------------------+--------------------+----------------------------+\n",
            "|AnnoAccademico|AteneiP|AteneiR|Ateneo|Fuorisede|Immatricolati|PopolazioneP|PopolazioneR|Ateneo_Array|AnnoAccademico_Array|Ateneo_OneHotEncoded|AnnoAccademico_OneHotEncoded|\n",
            "+--------------+-------+-------+------+---------+-------------+------------+------------+------------+--------------------+--------------------+----------------------------+\n",
            "|2010/2011     |1      |1      |Aosta |31       |188          |126957      |126957      |[Aosta]     |[2010/2011]         |(4,[],[])           |(4,[1],[1.0])               |\n",
            "|2011/2012     |1      |1      |Aosta |21       |172          |127153      |127153      |[Aosta]     |[2011/2012]         |(4,[],[])           |(4,[],[])                   |\n",
            "|2012/2013     |1      |1      |Aosta |31       |173          |127305      |127305      |[Aosta]     |[2012/2013]         |(4,[],[])           |(4,[],[])                   |\n",
            "|2013/2014     |1      |1      |Aosta |54       |192          |127951      |127951      |[Aosta]     |[2013/2014]         |(4,[],[])           |(4,[],[])                   |\n",
            "|2014/2015     |1      |1      |Aosta |52       |181          |128245      |128245      |[Aosta]     |[2014/2015]         |(4,[],[])           |(4,[],[])                   |\n",
            "|2015/2016     |1      |1      |Aosta |70       |185          |127972      |127972      |[Aosta]     |[2015/2016]         |(4,[],[])           |(4,[3],[1.0])               |\n",
            "|2016/2017     |1      |1      |Aosta |47       |166          |127030      |127030      |[Aosta]     |[2016/2017]         |(4,[],[])           |(4,[0],[1.0])               |\n",
            "|2017/2018     |1      |1      |Aosta |59       |185          |126677      |126677      |[Aosta]     |[2017/2018]         |(4,[],[])           |(4,[],[])                   |\n",
            "|2018/2019     |1      |1      |Aosta |64       |189          |126213      |126213      |[Aosta]     |[2018/2019]         |(4,[],[])           |(4,[2],[1.0])               |\n",
            "|2019/2020     |1      |1      |Aosta |65       |192          |125653      |125653      |[Aosta]     |[2019/2020]         |(4,[],[])           |(4,[],[])                   |\n",
            "|2020/2021     |1      |1      |Aosta |73       |244          |124000      |124000      |[Aosta]     |[2020/2021]         |(4,[],[])           |(4,[],[])                   |\n",
            "|2010/2011     |2      |3      |Bari  |4001     |9066         |1251412     |4090111     |[Bari]      |[2010/2011]         |(4,[],[])           |(4,[1],[1.0])               |\n",
            "|2011/2012     |2      |3      |Bari  |4005     |8865         |1257549     |4101558     |[Bari]      |[2011/2012]         |(4,[],[])           |(4,[],[])                   |\n",
            "|2012/2013     |2      |3      |Bari  |3698     |8264         |1259733     |4102797     |[Bari]      |[2012/2013]         |(4,[],[])           |(4,[],[])                   |\n",
            "|2013/2014     |2      |3      |Bari  |3545     |8004         |1258054     |4090530     |[Bari]      |[2013/2014]         |(4,[],[])           |(4,[],[])                   |\n",
            "|2014/2015     |2      |3      |Bari  |3452     |7795         |1256495     |4077788     |[Bari]      |[2014/2015]         |(4,[],[])           |(4,[],[])                   |\n",
            "|2015/2016     |2      |3      |Bari  |3083     |7240         |1253461     |4063269     |[Bari]      |[2015/2016]         |(4,[],[])           |(4,[3],[1.0])               |\n",
            "|2016/2017     |2      |3      |Bari  |3110     |7127         |1249699     |4043735     |[Bari]      |[2016/2017]         |(4,[],[])           |(4,[0],[1.0])               |\n",
            "|2017/2018     |2      |3      |Bari  |3039     |7118         |1245190     |4024067     |[Bari]      |[2017/2018]         |(4,[],[])           |(4,[],[])                   |\n",
            "|2018/2019     |2      |3      |Bari  |2997     |7195         |1240589     |4000966     |[Bari]      |[2018/2019]         |(4,[],[])           |(4,[2],[1.0])               |\n",
            "+--------------+-------+-------+------+---------+-------------+------------+------------+------------+--------------------+--------------------+----------------------------+\n",
            "only showing top 20 rows\n",
            "\n"
          ]
        }
      ]
    },
    {
      "cell_type": "code",
      "source": [
        "df_ohe=df_ohe.drop('Ateneo')\n",
        "df_ohe=df_ohe.drop('AnnoAccademico')\n",
        "df_ohe=df_ohe.drop('Ateneo_Array')\n",
        "df_ohe=df_ohe.drop('AnnoAccademico_Array')"
      ],
      "metadata": {
        "id": "K_FiEgXuEsyM"
      },
      "execution_count": null,
      "outputs": []
    },
    {
      "cell_type": "code",
      "source": [
        "from pyspark.ml.feature import VectorAssembler,StringIndexer\n",
        "from pyspark.ml.feature import StandardScaler\n",
        "\n",
        "columns=df_ohe.columns\n",
        "columns.remove('Immatricolati')\n",
        "assembler=VectorAssembler(inputCols=columns, outputCol='features_prescaled')\n",
        "df=assembler.transform(df_ohe)\n",
        "\n",
        "# Normalizing each feature to have unit standard deviation\n",
        "scaler = StandardScaler(inputCol=\"features_prescaled\", outputCol=\"features\", withStd=True, withMean=False)\n",
        "scalerModel = scaler.fit(df)\n",
        "# Normalize each feature to have unit standard deviation.\n",
        "df = scalerModel.transform(df)\n",
        "\n",
        "\n",
        "stringIndexer=StringIndexer(inputCol='Immatricolati',outputCol='label')\n",
        "si_model=stringIndexer.fit(df)\n",
        "df=si_model.transform(df)"
      ],
      "metadata": {
        "id": "PwJVeFyXACMT"
      },
      "execution_count": null,
      "outputs": []
    },
    {
      "cell_type": "code",
      "source": [
        "df=df.drop('features_prescaled')\n",
        "df.show()"
      ],
      "metadata": {
        "colab": {
          "base_uri": "https://localhost:8080/"
        },
        "id": "xLg2t6KtF7nM",
        "outputId": "c7e6a5da-07b9-4d53-ef63-e21ed767843a"
      },
      "execution_count": null,
      "outputs": [
        {
          "output_type": "stream",
          "name": "stdout",
          "text": [
            "+-------+-------+---------+-------------+------------+------------+--------------------+----------------------------+--------------------+-----+\n",
            "|AteneiP|AteneiR|Fuorisede|Immatricolati|PopolazioneP|PopolazioneR|Ateneo_OneHotEncoded|AnnoAccademico_OneHotEncoded|            features|label|\n",
            "+-------+-------+---------+-------------+------------+------------+--------------------+----------------------------+--------------------+-----+\n",
            "|      1|      1|       31|          188|      126957|      126957|           (4,[],[])|               (4,[1],[1.0])|(13,[0,1,2,3,4,10...|173.0|\n",
            "|      1|      1|       21|          172|      127153|      127153|           (4,[],[])|                   (4,[],[])|(13,[0,1,2,3,4],[...|157.0|\n",
            "|      1|      1|       31|          173|      127305|      127305|           (4,[],[])|                   (4,[],[])|(13,[0,1,2,3,4],[...|159.0|\n",
            "|      1|      1|       54|          192|      127951|      127951|           (4,[],[])|                   (4,[],[])|(13,[0,1,2,3,4],[...|  0.0|\n",
            "|      1|      1|       52|          181|      128245|      128245|           (4,[],[])|                   (4,[],[])|(13,[0,1,2,3,4],[...|168.0|\n",
            "|      1|      1|       70|          185|      127972|      127972|           (4,[],[])|               (4,[3],[1.0])|(13,[0,1,2,3,4,12...|  8.0|\n",
            "|      1|      1|       47|          166|      127030|      127030|           (4,[],[])|               (4,[0],[1.0])|(13,[0,1,2,3,4,9]...|148.0|\n",
            "|      1|      1|       59|          185|      126677|      126677|           (4,[],[])|                   (4,[],[])|(13,[0,1,2,3,4],[...|  8.0|\n",
            "|      1|      1|       64|          189|      126213|      126213|           (4,[],[])|               (4,[2],[1.0])|(13,[0,1,2,3,4,11...|175.0|\n",
            "|      1|      1|       65|          192|      125653|      125653|           (4,[],[])|                   (4,[],[])|(13,[0,1,2,3,4],[...|  0.0|\n",
            "|      1|      1|       73|          244|      124000|      124000|           (4,[],[])|                   (4,[],[])|(13,[0,1,2,3,4],[...| 12.0|\n",
            "|      2|      3|     4001|         9066|     1251412|     4090111|           (4,[],[])|               (4,[1],[1.0])|(13,[0,1,2,3,4,10...|602.0|\n",
            "|      2|      3|     4005|         8865|     1257549|     4101558|           (4,[],[])|                   (4,[],[])|(13,[0,1,2,3,4],[...|597.0|\n",
            "|      2|      3|     3698|         8264|     1259733|     4102797|           (4,[],[])|                   (4,[],[])|(13,[0,1,2,3,4],[...|584.0|\n",
            "|      2|      3|     3545|         8004|     1258054|     4090530|           (4,[],[])|                   (4,[],[])|(13,[0,1,2,3,4],[...|573.0|\n",
            "|      2|      3|     3452|         7795|     1256495|     4077788|           (4,[],[])|                   (4,[],[])|(13,[0,1,2,3,4],[...|567.0|\n",
            "|      2|      3|     3083|         7240|     1253461|     4063269|           (4,[],[])|               (4,[3],[1.0])|(13,[0,1,2,3,4,12...|544.0|\n",
            "|      2|      3|     3110|         7127|     1249699|     4043735|           (4,[],[])|               (4,[0],[1.0])|(13,[0,1,2,3,4,9]...|538.0|\n",
            "|      2|      3|     3039|         7118|     1245190|     4024067|           (4,[],[])|                   (4,[],[])|(13,[0,1,2,3,4],[...|536.0|\n",
            "|      2|      3|     2997|         7195|     1240589|     4000966|           (4,[],[])|               (4,[2],[1.0])|(13,[0,1,2,3,4,11...|541.0|\n",
            "+-------+-------+---------+-------------+------------+------------+--------------------+----------------------------+--------------------+-----+\n",
            "only showing top 20 rows\n",
            "\n"
          ]
        }
      ]
    },
    {
      "cell_type": "code",
      "source": [
        "#trainingData=df.sampleBy('label', fractions={0:0.7,1:0.7,2: 0.7}, seed=100)\n",
        "#testData=df.subtract(trainingData)"
      ],
      "metadata": {
        "id": "xOpiZix8FRv6"
      },
      "execution_count": null,
      "outputs": []
    },
    {
      "cell_type": "markdown",
      "source": [
        "#Split"
      ],
      "metadata": {
        "id": "hXOm_1Tu9_dm"
      }
    },
    {
      "cell_type": "code",
      "source": [
        "df_ml=df"
      ],
      "metadata": {
        "id": "tl5O1lvE_k8t"
      },
      "execution_count": null,
      "outputs": []
    },
    {
      "cell_type": "code",
      "source": [
        "(trainingData, testData) = df_ml.randomSplit([0.75, 0.25])\n",
        "(partialTrainingData, validationData) = trainingData.randomSplit([0.75, 0.25])"
      ],
      "metadata": {
        "id": "9rvWOGfc-Ili"
      },
      "execution_count": null,
      "outputs": []
    },
    {
      "cell_type": "markdown",
      "source": [
        "#Linear regressor\n"
      ],
      "metadata": {
        "id": "LeO4Lfep-lr4"
      }
    },
    {
      "cell_type": "code",
      "source": [
        "from pyspark.ml.regression import LinearRegression\n",
        "\n",
        "linear_regressor = LinearRegression(featuresCol = 'features', labelCol = 'label')\n",
        "\n",
        "#Learn to fit the model from training set\n",
        "regressor = linear_regressor.fit(partialTrainingData)\n",
        "\n",
        "#To predict the prices on testing set\n",
        "pred = regressor.evaluate(validationData)\n",
        "\n",
        "#Predict the model\n",
        "pred.predictions.show()"
      ],
      "metadata": {
        "colab": {
          "base_uri": "https://localhost:8080/"
        },
        "id": "MGFAgyPMG2uS",
        "outputId": "c5cdc4fb-d52a-4ea4-edb4-637e6c323911"
      },
      "execution_count": null,
      "outputs": [
        {
          "output_type": "stream",
          "name": "stderr",
          "text": [
            "/content/spark-3.2.1-bin-hadoop3.2/python/pyspark/sql/context.py:127: FutureWarning: Deprecated in 3.0.0. Use SparkSession.builder.getOrCreate() instead.\n",
            "  FutureWarning\n"
          ]
        },
        {
          "output_type": "stream",
          "name": "stdout",
          "text": [
            "+-------+-------+---------+-------------+------------+------------+--------------------+----------------------------+--------------------+-----+------------------+\n",
            "|AteneiP|AteneiR|Fuorisede|Immatricolati|PopolazioneP|PopolazioneR|Ateneo_OneHotEncoded|AnnoAccademico_OneHotEncoded|            features|label|        prediction|\n",
            "+-------+-------+---------+-------------+------------+------------+--------------------+----------------------------+--------------------+-----+------------------+\n",
            "|      1|      1|       31|          173|      127305|      127305|           (4,[],[])|                   (4,[],[])|(13,[0,1,2,3,4],[...|159.0|  310.877691403365|\n",
            "|      1|      1|       54|          192|      127951|      127951|           (4,[],[])|                   (4,[],[])|(13,[0,1,2,3,4],[...|  0.0| 310.7237868492553|\n",
            "|      1|      1|       70|          185|      127972|      127972|           (4,[],[])|               (4,[3],[1.0])|(13,[0,1,2,3,4,12...|  8.0|319.83710241691944|\n",
            "|      1|      1|      159|          914|      575814|      575814|           (4,[],[])|                   (4,[],[])|(13,[0,1,2,3,4],[...|603.0| 304.2859513843533|\n",
            "|      1|      1|      169|         1047|      580790|      580790|           (4,[],[])|                   (4,[],[])|(13,[0,1,2,3,4],[...| 39.0|304.15851309093034|\n",
            "|      1|      1|      409|         1142|      314816|      314816|           (4,[],[])|                   (4,[],[])|(13,[0,1,2,3,4],[...| 61.0|306.06802369050513|\n",
            "|      1|      1|      424|         1061|      294000|      294000|           (4,[],[])|                   (4,[],[])|(13,[0,1,2,3,4],[...| 43.0| 306.2414137526099|\n",
            "|      1|      1|     1020|         3177|      662252|      892742|           (4,[],[])|                   (4,[],[])|(13,[0,1,2,3,4],[...|305.0|303.27678325335864|\n",
            "|      1|      1|     1191|         3463|      658819|      888288|           (4,[],[])|               (4,[3],[1.0])|(13,[0,1,2,3,4,12...|325.0|311.42895367911706|\n",
            "|      1|      1|     1650|         4127|      659129|      889450|           (4,[],[])|                   (4,[],[])|(13,[0,1,2,3,4],[...| 19.0|299.32541862398506|\n",
            "|      1|      1|     1729|         2891|      536813|     1052202|           (4,[],[])|                   (4,[],[])|(13,[0,1,2,3,4],[...|287.0|307.27215906701014|\n",
            "|      1|      1|     1764|         2783|      538188|     1056182|           (4,[],[])|               (4,[3],[1.0])|(13,[0,1,2,3,4,12...|274.0|316.31054081848663|\n",
            "|      1|      1|     1808|         4272|      655333|      884937|           (4,[],[])|               (4,[1],[1.0])|(13,[0,1,2,3,4,10...|401.0|278.96803430823775|\n",
            "|      1|      1|     1827|         5252|      846211|     1557742|           (4,[],[])|               (4,[0],[1.0])|(13,[0,1,2,3,4,9]...|448.0| 354.4708688444409|\n",
            "|      1|      1|     2064|         5608|      831172|     1532980|           (4,[],[])|                   (4,[],[])|(13,[0,1,2,3,4],[...|469.0|305.84994695463104|\n",
            "|      1|      1|     2310|         6004|      869560|     1591537|           (4,[],[])|               (4,[1],[1.0])|(13,[0,1,2,3,4,10...|490.0| 284.8951374936732|\n",
            "|      1|      2|      380|         1705|      488917|     1648642|           (4,[],[])|               (4,[3],[1.0])|(13,[0,1,2,3,4,12...|155.0| 321.2758998992291|\n",
            "|      1|      2|      501|          831|      310157|     1329918|           (4,[],[])|                   (4,[],[])|(13,[0,1,2,3,4],[...|586.0|310.22643100879975|\n",
            "|      1|      2|      522|          846|      309023|     1326015|           (4,[],[])|               (4,[1],[1.0])|(13,[0,1,2,3,4,10...| 28.0| 290.6524130770659|\n",
            "|      1|      2|      567|          888|      309674|     1325836|           (4,[],[])|               (4,[3],[1.0])|(13,[0,1,2,3,4,12...|598.0|318.94303671965724|\n",
            "+-------+-------+---------+-------------+------------+------------+--------------------+----------------------------+--------------------+-----+------------------+\n",
            "only showing top 20 rows\n",
            "\n"
          ]
        }
      ]
    },
    {
      "cell_type": "code",
      "source": [
        "from pyspark.ml.evaluation import RegressionEvaluator\n",
        "eval = RegressionEvaluator(labelCol=\"label\", predictionCol=\"prediction\", metricName=\"rmse\")\n",
        "\n",
        "# Root Mean Square Error\n",
        "rmse = eval.evaluate(pred.predictions)\n",
        "print(\"RMSE: %.3f\" % rmse)\n",
        "\n",
        "# Mean Square Error\n",
        "mse = eval.evaluate(pred.predictions, {eval.metricName: \"mse\"})\n",
        "print(\"MSE: %.3f\" % mse)\n",
        "\n",
        "# Mean Absolute Error\n",
        "mae = eval.evaluate(pred.predictions, {eval.metricName: \"mae\"})\n",
        "print(\"MAE: %.3f\" % mae)\n",
        "\n",
        "# r2 - coefficient of determination\n",
        "r2 = eval.evaluate(pred.predictions, {eval.metricName: \"r2\"})\n",
        "print(\"r2: %.3f\" %r2)"
      ],
      "metadata": {
        "colab": {
          "base_uri": "https://localhost:8080/"
        },
        "id": "ypTJhc5kLnSJ",
        "outputId": "aec736b6-5d6f-4c1e-c09d-5c46c8f1e0db"
      },
      "execution_count": null,
      "outputs": [
        {
          "output_type": "stream",
          "name": "stderr",
          "text": [
            "/content/spark-3.2.1-bin-hadoop3.2/python/pyspark/sql/context.py:127: FutureWarning: Deprecated in 3.0.0. Use SparkSession.builder.getOrCreate() instead.\n",
            "  FutureWarning\n"
          ]
        },
        {
          "output_type": "stream",
          "name": "stdout",
          "text": [
            "RMSE: 187.342\n",
            "MSE: 35097.094\n",
            "MAE: 159.654\n",
            "r2: -0.021\n"
          ]
        }
      ]
    },
    {
      "cell_type": "markdown",
      "source": [
        "test\n"
      ],
      "metadata": {
        "id": "nn4v5Eyknlvg"
      }
    },
    {
      "cell_type": "code",
      "source": [
        "from pyspark.ml.regression import LinearRegression\n",
        "\n",
        "linear_regressor = LinearRegression(featuresCol = 'features', labelCol = 'label')\n",
        "\n",
        "#Learn to fit the model from training set\n",
        "regressor = linear_regressor.fit(partialTrainingData)\n",
        "\n",
        "#To predict the prices on testing set\n",
        "pred = regressor.evaluate(testData)\n",
        "\n",
        "#Predict the model\n",
        "pred.predictions.show()\n",
        "\n",
        "from pyspark.ml.evaluation import RegressionEvaluator\n",
        "eval = RegressionEvaluator(labelCol=\"label\", predictionCol=\"prediction\", metricName=\"rmse\")\n",
        "\n",
        "# Root Mean Square Error\n",
        "rmse = eval.evaluate(pred.predictions)\n",
        "print(\"RMSE: %.3f\" % rmse)\n",
        "\n",
        "# Mean Square Error\n",
        "mse = eval.evaluate(pred.predictions, {eval.metricName: \"mse\"})\n",
        "print(\"MSE: %.3f\" % mse)\n",
        "\n",
        "# Mean Absolute Error\n",
        "mae = eval.evaluate(pred.predictions, {eval.metricName: \"mae\"})\n",
        "print(\"MAE: %.3f\" % mae)\n",
        "\n",
        "# r2 - coefficient of determination\n",
        "r2 = eval.evaluate(pred.predictions, {eval.metricName: \"r2\"})\n",
        "print(\"r2: %.3f\" %r2)"
      ],
      "metadata": {
        "colab": {
          "base_uri": "https://localhost:8080/"
        },
        "id": "_ndF3gmDnTcR",
        "outputId": "19701631-8521-497f-ed9e-70c2ea6717f6"
      },
      "execution_count": null,
      "outputs": [
        {
          "output_type": "stream",
          "name": "stderr",
          "text": [
            "/content/spark-3.2.1-bin-hadoop3.2/python/pyspark/sql/context.py:127: FutureWarning: Deprecated in 3.0.0. Use SparkSession.builder.getOrCreate() instead.\n",
            "  FutureWarning\n"
          ]
        },
        {
          "output_type": "stream",
          "name": "stdout",
          "text": [
            "+-------+-------+---------+-------------+------------+------------+--------------------+----------------------------+--------------------+-----+------------------+\n",
            "|AteneiP|AteneiR|Fuorisede|Immatricolati|PopolazioneP|PopolazioneR|Ateneo_OneHotEncoded|AnnoAccademico_OneHotEncoded|            features|label|        prediction|\n",
            "+-------+-------+---------+-------------+------------+------------+--------------------+----------------------------+--------------------+-----+------------------+\n",
            "|      1|      1|       31|          188|      126957|      126957|           (4,[],[])|               (4,[1],[1.0])|(13,[0,1,2,3,4,10...|173.0| 291.4931916150157|\n",
            "|      1|      1|       47|          166|      127030|      127030|           (4,[],[])|               (4,[0],[1.0])|(13,[0,1,2,3,4,9]...|148.0|357.86035078004204|\n",
            "|      1|      1|       59|          185|      126677|      126677|           (4,[],[])|                   (4,[],[])|(13,[0,1,2,3,4],[...|  8.0| 310.7085623172335|\n",
            "|      1|      1|      170|          966|      579360|      579360|           (4,[],[])|                   (4,[],[])|(13,[0,1,2,3,4],[...|614.0|304.17061727309147|\n",
            "|      1|      1|      206|          947|      566405|      566405|           (4,[],[])|                   (4,[],[])|(13,[0,1,2,3,4],[...|610.0|304.10975564829715|\n",
            "|      1|      1|      405|         1004|      308400|      308400|           (4,[],[])|                   (4,[],[])|(13,[0,1,2,3,4],[...|  1.0|306.17604785603237|\n",
            "|      1|      1|      425|          991|      310026|      310026|           (4,[],[])|               (4,[0],[1.0])|(13,[0,1,2,3,4,9]...|617.0|  353.108884339198|\n",
            "|      1|      1|     1099|         3334|      661638|      892099|           (4,[],[])|                   (4,[],[])|(13,[0,1,2,3,4],[...|320.0| 302.7839732002294|\n",
            "|      1|      1|     1511|         3917|      653802|      880992|           (4,[],[])|                   (4,[],[])|(13,[0,1,2,3,4],[...|371.0|  300.198423771361|\n",
            "|      1|      1|     1556|         2779|      529246|     1037235|           (4,[],[])|                   (4,[],[])|(13,[0,1,2,3,4],[...|273.0|308.28635900492753|\n",
            "|      1|      1|     1969|         5386|      865118|     1587322|           (4,[],[])|                   (4,[],[])|(13,[0,1,2,3,4],[...|458.0| 306.5051942658639|\n",
            "|      1|      1|     2905|         7285|      816250|     1518000|           (4,[],[])|                   (4,[],[])|(13,[0,1,2,3,4],[...|546.0|300.71784159303905|\n",
            "|      1|      2|      357|         1637|      487737|     1654583|           (4,[],[])|                   (4,[],[])|(13,[0,1,2,3,4],[...|  6.0|312.39344417847434|\n",
            "|      1|      2|      454|         1882|      485100|     1655833|           (4,[],[])|                   (4,[],[])|(13,[0,1,2,3,4],[...|174.0|311.90715608631695|\n",
            "|      1|      2|      483|         1315|      362124|     1972049|           (4,[],[])|                   (4,[],[])|(13,[0,1,2,3,4],[...| 92.0|323.89320829538724|\n",
            "|      1|      2|      489|         1741|      488789|     1652528|           (4,[],[])|                   (4,[],[])|(13,[0,1,2,3,4],[...|  7.0|  311.469519142822|\n",
            "|      1|      2|      500|         1425|      362248|     1973624|           (4,[],[])|               (4,[1],[1.0])|(13,[0,1,2,3,4,10...|115.0|304.42999215226286|\n",
            "|      1|      2|      522|          953|      299402|     1281000|           (4,[],[])|                   (4,[],[])|(13,[0,1,2,3,4],[...|612.0|  309.312437331185|\n",
            "|      1|      2|      568|         1437|      361571|     1968536|           (4,[],[])|                   (4,[],[])|(13,[0,1,2,3,4],[...|119.0| 323.2909992298183|\n",
            "|      1|      2|      673|         1530|      357926|     1943085|           (4,[],[])|               (4,[0],[1.0])|(13,[0,1,2,3,4,9]...|132.0|369.22826304497823|\n",
            "+-------+-------+---------+-------------+------------+------------+--------------------+----------------------------+--------------------+-----+------------------+\n",
            "only showing top 20 rows\n",
            "\n",
            "RMSE: 186.803\n",
            "MSE: 34895.202\n",
            "MAE: 161.111\n",
            "r2: 0.004\n"
          ]
        }
      ]
    },
    {
      "cell_type": "markdown",
      "source": [
        "Train - Test\n"
      ],
      "metadata": {
        "id": "mV4qqhOhggkk"
      }
    },
    {
      "cell_type": "code",
      "source": [
        "from pyspark.ml.regression import LinearRegression\n",
        "regressor = LinearRegression(featuresCol = 'features', labelCol = 'label')\n",
        "\n",
        "linear_regressor = LinearRegression(featuresCol = 'features', labelCol = 'label')\n",
        "\n",
        "#Learn to fit the model from training set\n",
        "regressor = linear_regressor.fit(trainingData)\n",
        "\n",
        "#To predict the prices on testing set\n",
        "pred = regressor.evaluate(validationData)\n",
        "\n",
        "#Predict the model\n",
        "pred.predictions.show()"
      ],
      "metadata": {
        "colab": {
          "base_uri": "https://localhost:8080/"
        },
        "id": "uaZoYOu1gjoh",
        "outputId": "f6d001f7-6e01-4659-f959-5cbd96bdc314"
      },
      "execution_count": null,
      "outputs": [
        {
          "output_type": "stream",
          "name": "stderr",
          "text": [
            "/content/spark-3.2.1-bin-hadoop3.2/python/pyspark/sql/context.py:127: FutureWarning: Deprecated in 3.0.0. Use SparkSession.builder.getOrCreate() instead.\n",
            "  FutureWarning\n"
          ]
        },
        {
          "output_type": "stream",
          "name": "stdout",
          "text": [
            "+-------+-------+---------+-------------+------------+------------+--------------------+----------------------------+--------------------+-----+------------------+\n",
            "|AteneiP|AteneiR|Fuorisede|Immatricolati|PopolazioneP|PopolazioneR|Ateneo_OneHotEncoded|AnnoAccademico_OneHotEncoded|            features|label|        prediction|\n",
            "+-------+-------+---------+-------------+------------+------------+--------------------+----------------------------+--------------------+-----+------------------+\n",
            "|      1|      1|       31|          188|      126957|      126957|           (4,[],[])|               (4,[1],[1.0])|(13,[0,1,2,3,4,10...|173.0|290.43018123661557|\n",
            "|      1|      1|       47|          166|      127030|      127030|           (4,[],[])|               (4,[0],[1.0])|(13,[0,1,2,3,4,9]...|148.0|342.85855379670244|\n",
            "|      1|      1|       59|          185|      126677|      126677|           (4,[],[])|                   (4,[],[])|(13,[0,1,2,3,4],[...|  8.0|292.60501927110386|\n",
            "|      1|      1|      170|          966|      579360|      579360|           (4,[],[])|                   (4,[],[])|(13,[0,1,2,3,4],[...|614.0|296.90281937261267|\n",
            "|      1|      1|      206|          947|      566405|      566405|           (4,[],[])|                   (4,[],[])|(13,[0,1,2,3,4],[...|610.0|296.47660045099116|\n",
            "|      1|      1|      405|         1004|      308400|      308400|           (4,[],[])|                   (4,[],[])|(13,[0,1,2,3,4],[...|  1.0|291.99718652408455|\n",
            "|      1|      1|      425|          991|      310026|      310026|           (4,[],[])|               (4,[0],[1.0])|(13,[0,1,2,3,4,9]...|617.0| 342.0175460161388|\n",
            "|      1|      1|     1099|         3334|      661638|      892099|           (4,[],[])|                   (4,[],[])|(13,[0,1,2,3,4],[...|320.0| 294.6273622383985|\n",
            "|      1|      1|     1511|         3917|      653802|      880992|           (4,[],[])|                   (4,[],[])|(13,[0,1,2,3,4],[...|371.0| 291.2927990257848|\n",
            "|      1|      1|     1556|         2779|      529246|     1037235|           (4,[],[])|                   (4,[],[])|(13,[0,1,2,3,4],[...|273.0| 294.3719825604421|\n",
            "|      1|      1|     1969|         5386|      865118|     1587322|           (4,[],[])|                   (4,[],[])|(13,[0,1,2,3,4],[...|458.0|298.69884378497676|\n",
            "|      1|      1|     2905|         7285|      816250|     1518000|           (4,[],[])|                   (4,[],[])|(13,[0,1,2,3,4],[...|546.0| 290.5445695429508|\n",
            "|      1|      2|      357|         1637|      487737|     1654583|           (4,[],[])|                   (4,[],[])|(13,[0,1,2,3,4],[...|  6.0|302.92345218175615|\n",
            "|      1|      2|      454|         1882|      485100|     1655833|           (4,[],[])|                   (4,[],[])|(13,[0,1,2,3,4],[...|174.0| 302.2097280655835|\n",
            "|      1|      2|      483|         1315|      362124|     1972049|           (4,[],[])|                   (4,[],[])|(13,[0,1,2,3,4],[...| 92.0| 308.1645113923952|\n",
            "|      1|      2|      489|         1741|      488789|     1652528|           (4,[],[])|                   (4,[],[])|(13,[0,1,2,3,4],[...|  7.0| 301.8601442261767|\n",
            "|      1|      2|      500|         1425|      362248|     1973624|           (4,[],[])|               (4,[1],[1.0])|(13,[0,1,2,3,4,10...|115.0| 305.6646438402142|\n",
            "|      1|      2|      522|          953|      299402|     1281000|           (4,[],[])|                   (4,[],[])|(13,[0,1,2,3,4],[...|612.0|296.30360799683956|\n",
            "|      1|      2|      568|         1437|      361571|     1968536|           (4,[],[])|                   (4,[],[])|(13,[0,1,2,3,4],[...|119.0| 307.4492320489143|\n",
            "|      1|      2|      673|         1530|      357926|     1943085|           (4,[],[])|               (4,[0],[1.0])|(13,[0,1,2,3,4,9]...|132.0|   356.37529517764|\n",
            "+-------+-------+---------+-------------+------------+------------+--------------------+----------------------------+--------------------+-----+------------------+\n",
            "only showing top 20 rows\n",
            "\n"
          ]
        }
      ]
    },
    {
      "cell_type": "code",
      "source": [
        "from pyspark.ml.evaluation import RegressionEvaluator\n",
        "eval = RegressionEvaluator(labelCol=\"label\", predictionCol=\"prediction\", metricName=\"rmse\")\n",
        "\n",
        "# Root Mean Square Error\n",
        "rmse = eval.evaluate(pred.predictions)\n",
        "print(\"RMSE: %.3f\" % rmse)\n",
        "\n",
        "# Mean Square Error\n",
        "mse = eval.evaluate(pred.predictions, {eval.metricName: \"mse\"})\n",
        "print(\"MSE: %.3f\" % mse)\n",
        "\n",
        "# Mean Absolute Error\n",
        "mae = eval.evaluate(pred.predictions, {eval.metricName: \"mae\"})\n",
        "print(\"MAE: %.3f\" % mae)\n",
        "\n",
        "# r2 - coefficient of determination\n",
        "r2 = eval.evaluate(pred.predictions, {eval.metricName: \"r2\"})\n",
        "print(\"r2: %.3f\" %r2)"
      ],
      "metadata": {
        "colab": {
          "base_uri": "https://localhost:8080/"
        },
        "id": "2YuN-jW9gvLk",
        "outputId": "39bd3d24-e79c-4355-d669-0169c15db8cd"
      },
      "execution_count": null,
      "outputs": [
        {
          "output_type": "stream",
          "name": "stderr",
          "text": [
            "/content/spark-3.2.1-bin-hadoop3.2/python/pyspark/sql/context.py:127: FutureWarning: Deprecated in 3.0.0. Use SparkSession.builder.getOrCreate() instead.\n",
            "  FutureWarning\n"
          ]
        },
        {
          "output_type": "stream",
          "name": "stdout",
          "text": [
            "RMSE: 189.441\n",
            "MSE: 35888.034\n",
            "MAE: 163.081\n",
            "r2: -0.024\n"
          ]
        }
      ]
    },
    {
      "cell_type": "markdown",
      "source": [
        "#Random Forest Regressor\n"
      ],
      "metadata": {
        "id": "312oJeWob1S_"
      }
    },
    {
      "cell_type": "code",
      "source": [
        "from pyspark.ml.regression import RandomForestRegressor\n",
        "\n",
        "lr = RandomForestRegressor(featuresCol = 'features', labelCol = 'label', numTrees=1000, maxDepth=3)\n",
        "lr_model = lr.fit(partialTrainingData)\n",
        "\n",
        "predictions = lr_model.transform(validationData)\n",
        "predictions.select(\"prediction\", \"label\", \"features\").show()"
      ],
      "metadata": {
        "id": "xQf56eknBxNs",
        "colab": {
          "base_uri": "https://localhost:8080/"
        },
        "outputId": "a8805082-6225-4a41-add3-6ab4b9306c86"
      },
      "execution_count": null,
      "outputs": [
        {
          "output_type": "stream",
          "name": "stdout",
          "text": [
            "+------------------+-----+--------------------+\n",
            "|        prediction|label|            features|\n",
            "+------------------+-----+--------------------+\n",
            "| 274.0585907430483|159.0|(13,[0,1,2,3,4],[...|\n",
            "| 274.0585907430483|  0.0|(13,[0,1,2,3,4],[...|\n",
            "| 281.5848426437429|  8.0|(13,[0,1,2,3,4,12...|\n",
            "|311.15045983005314|603.0|(13,[0,1,2,3,4],[...|\n",
            "|311.15045983005314| 39.0|(13,[0,1,2,3,4],[...|\n",
            "| 293.7340611858891| 61.0|(13,[0,1,2,3,4],[...|\n",
            "| 279.3264794660861| 43.0|(13,[0,1,2,3,4],[...|\n",
            "|  296.812426851769|305.0|(13,[0,1,2,3,4],[...|\n",
            "| 300.9456865510076|325.0|(13,[0,1,2,3,4,12...|\n",
            "| 300.4985650105165| 19.0|(13,[0,1,2,3,4],[...|\n",
            "| 296.4010807330616|287.0|(13,[0,1,2,3,4],[...|\n",
            "|299.98789402423955|274.0|(13,[0,1,2,3,4,12...|\n",
            "|  308.709538657708|401.0|(13,[0,1,2,3,4,10...|\n",
            "|  315.020433341009|448.0|(13,[0,1,2,3,4,9]...|\n",
            "|326.45977756797066|469.0|(13,[0,1,2,3,4],[...|\n",
            "| 320.9462273709988|490.0|(13,[0,1,2,3,4,10...|\n",
            "|290.52200280703914|155.0|(13,[0,1,2,3,4,12...|\n",
            "|282.20656320256046|586.0|(13,[0,1,2,3,4],[...|\n",
            "| 275.6804819508258| 28.0|(13,[0,1,2,3,4,10...|\n",
            "|285.24879874203043|598.0|(13,[0,1,2,3,4,12...|\n",
            "+------------------+-----+--------------------+\n",
            "only showing top 20 rows\n",
            "\n"
          ]
        }
      ]
    },
    {
      "cell_type": "code",
      "source": [
        "from pyspark.ml.evaluation import RegressionEvaluator\n",
        "\n",
        "eval = RegressionEvaluator(labelCol=\"label\",predictionCol=\"prediction\", metricName=\"rmse\")\n",
        "rmse = eval.evaluate(predictions)\n",
        "print(\"Root Mean Squared Error (RMSE) on test data = %g\"% rmse)\n",
        "\n",
        "mse = eval.evaluate(predictions, {eval.metricName: \"mse\"})\n",
        "print(\"MSE: %.3f\" % mse)\n",
        "\n",
        "# Mean Absolute Error\n",
        "mae = eval.evaluate(predictions, {eval.metricName: \"mae\"})\n",
        "print(\"MAE: %.3f\" % mae)\n",
        "\n",
        "# r2 - coefficient of determination\n",
        "r2 = eval.evaluate(predictions, {eval.metricName: \"r2\"})\n",
        "print(\"r2: %.3f\" %r2)"
      ],
      "metadata": {
        "colab": {
          "base_uri": "https://localhost:8080/"
        },
        "id": "zgTaHPR2hAaY",
        "outputId": "40eaa053-958e-430d-9ca7-39314bdbc102"
      },
      "execution_count": null,
      "outputs": [
        {
          "output_type": "stream",
          "name": "stdout",
          "text": [
            "Root Mean Squared Error (RMSE) on test data = 169.576\n",
            "MSE: 28755.868\n",
            "MAE: 139.521\n",
            "r2: 0.164\n"
          ]
        }
      ]
    },
    {
      "cell_type": "markdown",
      "source": [
        "Test"
      ],
      "metadata": {
        "id": "diFiVUsrn3P3"
      }
    },
    {
      "cell_type": "code",
      "source": [
        "from pyspark.ml.regression import RandomForestRegressor\n",
        "\n",
        "lr = RandomForestRegressor(featuresCol = 'features', labelCol = 'label', numTrees=1000, maxDepth=3)\n",
        "lr_model = lr.fit(partialTrainingData)\n",
        "\n",
        "predictions = lr_model.transform(testData)\n",
        "predictions.select(\"prediction\", \"label\", \"features\").show()\n",
        "\n",
        "from pyspark.ml.evaluation import RegressionEvaluator\n",
        "\n",
        "eval = RegressionEvaluator(labelCol=\"label\",predictionCol=\"prediction\", metricName=\"rmse\")\n",
        "rmse = eval.evaluate(predictions)\n",
        "print(\"Root Mean Squared Error (RMSE) on test data = %g\"% rmse)\n",
        "\n",
        "mse = eval.evaluate(predictions, {eval.metricName: \"mse\"})\n",
        "print(\"MSE: %.3f\" % mse)\n",
        "\n",
        "# Mean Absolute Error\n",
        "mae = eval.evaluate(predictions, {eval.metricName: \"mae\"})\n",
        "print(\"MAE: %.3f\" % mae)\n",
        "\n",
        "# r2 - coefficient of determination\n",
        "r2 = eval.evaluate(predictions, {eval.metricName: \"r2\"})\n",
        "print(\"r2: %.3f\" %r2)"
      ],
      "metadata": {
        "colab": {
          "base_uri": "https://localhost:8080/"
        },
        "id": "ZAl2fNevn5NV",
        "outputId": "b1e8da89-f20e-44ce-c406-0f935dbf3733"
      },
      "execution_count": null,
      "outputs": [
        {
          "output_type": "stream",
          "name": "stdout",
          "text": [
            "+------------------+-----+--------------------+\n",
            "|        prediction|label|            features|\n",
            "+------------------+-----+--------------------+\n",
            "|265.85041574243434|173.0|(13,[0,1,2,3,4,10...|\n",
            "| 285.3699179877601|148.0|(13,[0,1,2,3,4,9]...|\n",
            "| 274.0585907430483|  8.0|(13,[0,1,2,3,4],[...|\n",
            "|311.15045983005314|614.0|(13,[0,1,2,3,4],[...|\n",
            "| 311.6605093495396|610.0|(13,[0,1,2,3,4],[...|\n",
            "| 279.3264794660861|  1.0|(13,[0,1,2,3,4],[...|\n",
            "| 290.7728283055689|617.0|(13,[0,1,2,3,4,9]...|\n",
            "|  296.812426851769|320.0|(13,[0,1,2,3,4],[...|\n",
            "|309.70345494697057|371.0|(13,[0,1,2,3,4],[...|\n",
            "| 292.9294658912709|273.0|(13,[0,1,2,3,4],[...|\n",
            "| 325.8460744509479|458.0|(13,[0,1,2,3,4],[...|\n",
            "| 333.3056615385524|546.0|(13,[0,1,2,3,4],[...|\n",
            "| 286.4970181029444|  6.0|(13,[0,1,2,3,4],[...|\n",
            "| 286.1426995946726|174.0|(13,[0,1,2,3,4],[...|\n",
            "| 286.5741054996205| 92.0|(13,[0,1,2,3,4],[...|\n",
            "| 285.4173222824171|  7.0|(13,[0,1,2,3,4],[...|\n",
            "|282.37892815051583|115.0|(13,[0,1,2,3,4,10...|\n",
            "| 280.3685492416668|612.0|(13,[0,1,2,3,4],[...|\n",
            "|285.17998999895985|119.0|(13,[0,1,2,3,4],[...|\n",
            "| 289.7123438082554|132.0|(13,[0,1,2,3,4,9]...|\n",
            "+------------------+-----+--------------------+\n",
            "only showing top 20 rows\n",
            "\n",
            "Root Mean Squared Error (RMSE) on test data = 164.497\n",
            "MSE: 27059.406\n",
            "MAE: 139.042\n",
            "r2: 0.228\n"
          ]
        }
      ]
    },
    {
      "cell_type": "markdown",
      "source": [
        "Train - Test"
      ],
      "metadata": {
        "id": "jMe_beLihCA-"
      }
    },
    {
      "cell_type": "code",
      "source": [
        "from pyspark.ml.regression import RandomForestRegressor\n",
        "\n",
        "lr = RandomForestRegressor(featuresCol = 'features', labelCol = 'label', numTrees=1000, maxDepth=3)\n",
        "lr_model = lr.fit(trainingData)\n",
        "\n",
        "predictions = lr_model.transform(testData)\n",
        "predictions.select(\"prediction\", \"label\", \"features\").show()\n",
        "\n",
        "from pyspark.ml.evaluation import RegressionEvaluator\n",
        "\n",
        "eval = RegressionEvaluator(labelCol=\"label\",predictionCol=\"prediction\", metricName=\"rmse\")\n",
        "rmse = eval.evaluate(predictions)\n",
        "print(\"Root Mean Squared Error (RMSE) on test data = %g\"% rmse)\n",
        "\n",
        "mse = eval.evaluate(predictions, {eval.metricName: \"mse\"})\n",
        "print(\"MSE: %.3f\" % mse)\n",
        "\n",
        "# Mean Absolute Error\n",
        "mae = eval.evaluate(predictions, {eval.metricName: \"mae\"})\n",
        "print(\"MAE: %.3f\" % mae)\n",
        "\n",
        "# r2 - coefficient of determination\n",
        "r2 = eval.evaluate(predictions, {eval.metricName: \"r2\"})\n",
        "print(\"r2: %.3f\" %r2)"
      ],
      "metadata": {
        "colab": {
          "base_uri": "https://localhost:8080/"
        },
        "id": "FJsI02njhzZt",
        "outputId": "ad20ba23-5d20-42be-c55f-a93af86484fe"
      },
      "execution_count": null,
      "outputs": [
        {
          "output_type": "stream",
          "name": "stdout",
          "text": [
            "+------------------+-----+--------------------+\n",
            "|        prediction|label|            features|\n",
            "+------------------+-----+--------------------+\n",
            "| 241.9072058340789|173.0|(13,[0,1,2,3,4,10...|\n",
            "|257.67790959732787|148.0|(13,[0,1,2,3,4,9]...|\n",
            "|244.77376845568318|  8.0|(13,[0,1,2,3,4],[...|\n",
            "| 295.7808574250489|614.0|(13,[0,1,2,3,4],[...|\n",
            "| 295.7808574250489|610.0|(13,[0,1,2,3,4],[...|\n",
            "| 257.0370147820624|  1.0|(13,[0,1,2,3,4],[...|\n",
            "|269.51229970502646|617.0|(13,[0,1,2,3,4,9]...|\n",
            "|291.89186272535204|320.0|(13,[0,1,2,3,4],[...|\n",
            "| 299.2724701917623|371.0|(13,[0,1,2,3,4],[...|\n",
            "| 293.3922005817819|273.0|(13,[0,1,2,3,4],[...|\n",
            "| 327.8309405427998|458.0|(13,[0,1,2,3,4],[...|\n",
            "| 330.4195407144828|546.0|(13,[0,1,2,3,4],[...|\n",
            "|287.72836455291525|  6.0|(13,[0,1,2,3,4],[...|\n",
            "| 287.7743406948719|174.0|(13,[0,1,2,3,4],[...|\n",
            "| 288.0336276995334| 92.0|(13,[0,1,2,3,4],[...|\n",
            "| 287.7743406948719|  7.0|(13,[0,1,2,3,4],[...|\n",
            "|285.86932777815497|115.0|(13,[0,1,2,3,4,10...|\n",
            "|278.91350140455967|612.0|(13,[0,1,2,3,4],[...|\n",
            "| 287.5053750189819|119.0|(13,[0,1,2,3,4],[...|\n",
            "| 291.5410246432389|132.0|(13,[0,1,2,3,4,9]...|\n",
            "+------------------+-----+--------------------+\n",
            "only showing top 20 rows\n",
            "\n",
            "Root Mean Squared Error (RMSE) on test data = 168.388\n",
            "MSE: 28354.547\n",
            "MAE: 142.601\n",
            "r2: 0.191\n"
          ]
        }
      ]
    },
    {
      "cell_type": "markdown",
      "source": [
        "#GBT Regressor"
      ],
      "metadata": {
        "id": "3NbRb8aPhuP2"
      }
    },
    {
      "cell_type": "code",
      "source": [
        "from pyspark.ml.regression import GBTRegressor\n",
        "\n",
        "lr = GBTRegressor(featuresCol = \"features\", labelCol=\"label\", maxIter=100, stepSize=0.01)\n",
        "lr_model = lr.fit(partialTrainingData)\n",
        "\n",
        "predictions = lr_model.transform(validationData)\n",
        "predictions.select(\"prediction\", \"label\", \"features\").show()"
      ],
      "metadata": {
        "colab": {
          "base_uri": "https://localhost:8080/"
        },
        "id": "Dr9y1hV7h_JN",
        "outputId": "5b6ad456-9f85-44e8-c0bb-26f21fb029ec"
      },
      "execution_count": null,
      "outputs": [
        {
          "output_type": "stream",
          "name": "stdout",
          "text": [
            "+------------------+-----+--------------------+\n",
            "|        prediction|label|            features|\n",
            "+------------------+-----+--------------------+\n",
            "| 202.2495481870274|159.0|(13,[0,1,2,3,4],[...|\n",
            "| 202.2495481870274|  0.0|(13,[0,1,2,3,4],[...|\n",
            "| 93.17162787553885|  8.0|(13,[0,1,2,3,4,12...|\n",
            "|449.42407502027453|603.0|(13,[0,1,2,3,4],[...|\n",
            "|449.42407502027453| 39.0|(13,[0,1,2,3,4],[...|\n",
            "| 305.6307953978314| 61.0|(13,[0,1,2,3,4],[...|\n",
            "| 227.5381987530288| 43.0|(13,[0,1,2,3,4],[...|\n",
            "|328.94494112714773|305.0|(13,[0,1,2,3,4],[...|\n",
            "|355.61441104394135|325.0|(13,[0,1,2,3,4,12...|\n",
            "|337.31391072116406| 19.0|(13,[0,1,2,3,4],[...|\n",
            "|271.17206009428054|287.0|(13,[0,1,2,3,4],[...|\n",
            "|297.84153001107404|274.0|(13,[0,1,2,3,4,12...|\n",
            "|267.12836277785414|401.0|(13,[0,1,2,3,4,10...|\n",
            "|  284.587501669394|448.0|(13,[0,1,2,3,4,9]...|\n",
            "| 311.2182032480407|469.0|(13,[0,1,2,3,4],[...|\n",
            "|  236.196044393777|490.0|(13,[0,1,2,3,4,10...|\n",
            "|262.38872517785296|155.0|(13,[0,1,2,3,4,12...|\n",
            "| 392.0130641645033|586.0|(13,[0,1,2,3,4],[...|\n",
            "|282.73862527367777| 28.0|(13,[0,1,2,3,4,10...|\n",
            "| 297.6049895222515|598.0|(13,[0,1,2,3,4,12...|\n",
            "+------------------+-----+--------------------+\n",
            "only showing top 20 rows\n",
            "\n"
          ]
        }
      ]
    },
    {
      "cell_type": "code",
      "source": [
        "from pyspark.ml.evaluation import RegressionEvaluator\n",
        "\n",
        "eval = RegressionEvaluator(labelCol=\"label\",predictionCol=\"prediction\", metricName=\"rmse\")\n",
        "rmse = eval.evaluate(predictions)\n",
        "print(\"Root Mean Squared Error (RMSE) on test data = %g\"% rmse)\n",
        "\n",
        "mse = eval.evaluate(predictions, {eval.metricName: \"mse\"})\n",
        "print(\"MSE: %.3f\" % mse)\n",
        "\n",
        "# Mean Absolute Error\n",
        "mae = eval.evaluate(predictions, {eval.metricName: \"mae\"})\n",
        "print(\"MAE: %.3f\" % mae)\n",
        "\n",
        "# r2 - coefficient of determination\n",
        "r2 = eval.evaluate(predictions, {eval.metricName: \"r2\"})\n",
        "print(\"r2: %.3f\" %r2)"
      ],
      "metadata": {
        "colab": {
          "base_uri": "https://localhost:8080/"
        },
        "id": "2ftq2kjhiApq",
        "outputId": "6fa91d1d-030f-456c-c251-b817e6b0d55b"
      },
      "execution_count": null,
      "outputs": [
        {
          "output_type": "stream",
          "name": "stdout",
          "text": [
            "Root Mean Squared Error (RMSE) on test data = 157.987\n",
            "MSE: 24959.793\n",
            "MAE: 110.798\n",
            "r2: 0.274\n"
          ]
        }
      ]
    },
    {
      "cell_type": "markdown",
      "source": [
        "Test"
      ],
      "metadata": {
        "id": "X2cdrLgGotPQ"
      }
    },
    {
      "cell_type": "code",
      "source": [
        "from pyspark.ml.regression import GBTRegressor\n",
        "\n",
        "lr = GBTRegressor(featuresCol = \"features\", labelCol=\"label\", maxIter=100, stepSize=0.01)\n",
        "lr_model = lr.fit(trainingData)\n",
        "\n",
        "predictions = lr_model.transform(validationData)\n",
        "predictions.select(\"prediction\", \"label\", \"features\").show()\n",
        "\n",
        "from pyspark.ml.evaluation import RegressionEvaluator\n",
        "\n",
        "eval = RegressionEvaluator(labelCol=\"label\",predictionCol=\"prediction\", metricName=\"rmse\")\n",
        "rmse = eval.evaluate(predictions)\n",
        "print(\"Root Mean Squared Error (RMSE) on test data = %g\"% rmse)\n",
        "\n",
        "mse = eval.evaluate(predictions, {eval.metricName: \"mse\"})\n",
        "print(\"MSE: %.3f\" % mse)\n",
        "\n",
        "# Mean Absolute Error\n",
        "mae = eval.evaluate(predictions, {eval.metricName: \"mae\"})\n",
        "print(\"MAE: %.3f\" % mae)\n",
        "\n",
        "# r2 - coefficient of determination\n",
        "r2 = eval.evaluate(predictions, {eval.metricName: \"r2\"})\n",
        "print(\"r2: %.3f\" %r2)"
      ],
      "metadata": {
        "colab": {
          "base_uri": "https://localhost:8080/"
        },
        "id": "RIVgkxD-ouDI",
        "outputId": "5f5bb410-c7b5-45d5-ef0c-ec0064cf27f8"
      },
      "execution_count": null,
      "outputs": [
        {
          "output_type": "stream",
          "name": "stdout",
          "text": [
            "+------------------+-----+--------------------+\n",
            "|        prediction|label|            features|\n",
            "+------------------+-----+--------------------+\n",
            "| 149.5591074120967|159.0|(13,[0,1,2,3,4],[...|\n",
            "| 149.5591074120967|  0.0|(13,[0,1,2,3,4],[...|\n",
            "| 79.30172406755689|  8.0|(13,[0,1,2,3,4,12...|\n",
            "|401.27563075300645|603.0|(13,[0,1,2,3,4],[...|\n",
            "|401.27563075300645| 39.0|(13,[0,1,2,3,4],[...|\n",
            "| 218.8222047185386| 61.0|(13,[0,1,2,3,4],[...|\n",
            "|145.42134626237498| 43.0|(13,[0,1,2,3,4],[...|\n",
            "|295.55577133662916|305.0|(13,[0,1,2,3,4],[...|\n",
            "| 344.1818518071412|325.0|(13,[0,1,2,3,4,12...|\n",
            "| 300.8510342846959| 19.0|(13,[0,1,2,3,4],[...|\n",
            "|284.10487735159785|287.0|(13,[0,1,2,3,4],[...|\n",
            "|285.67628667837613|274.0|(13,[0,1,2,3,4,12...|\n",
            "| 377.0989897222215|401.0|(13,[0,1,2,3,4,10...|\n",
            "|379.72806164146294|448.0|(13,[0,1,2,3,4,9]...|\n",
            "| 363.3826616156749|469.0|(13,[0,1,2,3,4],[...|\n",
            "| 364.6176296156749|490.0|(13,[0,1,2,3,4,10...|\n",
            "|250.36068787730167|155.0|(13,[0,1,2,3,4,12...|\n",
            "| 370.3689124746325|586.0|(13,[0,1,2,3,4],[...|\n",
            "| 180.9730852183467| 28.0|(13,[0,1,2,3,4,10...|\n",
            "| 379.7923660790195|598.0|(13,[0,1,2,3,4,12...|\n",
            "+------------------+-----+--------------------+\n",
            "only showing top 20 rows\n",
            "\n",
            "Root Mean Squared Error (RMSE) on test data = 113.361\n",
            "MSE: 12850.803\n",
            "MAE: 77.087\n",
            "r2: 0.626\n"
          ]
        }
      ]
    },
    {
      "cell_type": "code",
      "source": [
        "from pyspark.ml.regression import GBTRegressor\n",
        "\n",
        "lr = GBTRegressor(featuresCol = \"features\", labelCol=\"label\", maxIter=100, stepSize=0.01)\n",
        "lr_model = lr.fit(trainingData)\n",
        "\n",
        "predictions = lr_model.transform(testData)\n",
        "predictions.select(\"prediction\", \"label\", \"features\").show()"
      ],
      "metadata": {
        "id": "NqqC2WlX_2Jo",
        "colab": {
          "base_uri": "https://localhost:8080/"
        },
        "outputId": "7154b233-2cfb-4393-fd1c-7547012a2d1d"
      },
      "execution_count": null,
      "outputs": [
        {
          "output_type": "stream",
          "name": "stdout",
          "text": [
            "+------------------+-----+--------------------+\n",
            "|        prediction|label|            features|\n",
            "+------------------+-----+--------------------+\n",
            "|117.33135630749027|173.0|(13,[0,1,2,3,4,10...|\n",
            "| 205.0140761141448|148.0|(13,[0,1,2,3,4,9]...|\n",
            "| 149.5591074120967|  8.0|(13,[0,1,2,3,4],[...|\n",
            "|401.27563075300645|614.0|(13,[0,1,2,3,4],[...|\n",
            "|401.27563075300645|610.0|(13,[0,1,2,3,4],[...|\n",
            "|145.42134626237498|  1.0|(13,[0,1,2,3,4],[...|\n",
            "|222.63648455806182|617.0|(13,[0,1,2,3,4,9]...|\n",
            "|295.55577133662916|320.0|(13,[0,1,2,3,4],[...|\n",
            "|348.10086423760845|371.0|(13,[0,1,2,3,4],[...|\n",
            "|  259.869295034826|273.0|(13,[0,1,2,3,4],[...|\n",
            "| 362.0730036578763|458.0|(13,[0,1,2,3,4],[...|\n",
            "|477.22077102840234|546.0|(13,[0,1,2,3,4],[...|\n",
            "| 245.7922610840328|  6.0|(13,[0,1,2,3,4],[...|\n",
            "| 245.7922610840328|174.0|(13,[0,1,2,3,4],[...|\n",
            "| 245.7922610840328| 92.0|(13,[0,1,2,3,4],[...|\n",
            "| 245.7922610840328|  7.0|(13,[0,1,2,3,4],[...|\n",
            "|205.62498145766025|115.0|(13,[0,1,2,3,4,10...|\n",
            "|174.35387148265613|612.0|(13,[0,1,2,3,4],[...|\n",
            "|185.59700536061564|119.0|(13,[0,1,2,3,4],[...|\n",
            "|198.50994195085792|132.0|(13,[0,1,2,3,4,9]...|\n",
            "+------------------+-----+--------------------+\n",
            "only showing top 20 rows\n",
            "\n"
          ]
        }
      ]
    },
    {
      "cell_type": "code",
      "source": [
        "from pyspark.ml.evaluation import RegressionEvaluator\n",
        "\n",
        "eval = RegressionEvaluator(labelCol=\"label\",predictionCol=\"prediction\", metricName=\"rmse\")\n",
        "rmse = eval.evaluate(predictions)\n",
        "print(\"Root Mean Squared Error (RMSE) on test data = %g\"% rmse)\n",
        "\n",
        "mse = eval.evaluate(predictions, {eval.metricName: \"mse\"})\n",
        "print(\"MSE: %.3f\" % mse)\n",
        "\n",
        "# Mean Absolute Error\n",
        "mae = eval.evaluate(predictions, {eval.metricName: \"mae\"})\n",
        "print(\"MAE: %.3f\" % mae)\n",
        "\n",
        "# r2 - coefficient of determination\n",
        "r2 = eval.evaluate(predictions, {eval.metricName: \"r2\"})\n",
        "print(\"r2: %.3f\" %r2)"
      ],
      "metadata": {
        "id": "Kaqjg4XsA-LD",
        "colab": {
          "base_uri": "https://localhost:8080/"
        },
        "outputId": "dcb3405e-bea7-4950-d918-43cef172d49e"
      },
      "execution_count": null,
      "outputs": [
        {
          "output_type": "stream",
          "name": "stdout",
          "text": [
            "Root Mean Squared Error (RMSE) on test data = 127.022\n",
            "MSE: 16134.544\n",
            "MAE: 87.522\n",
            "r2: 0.540\n"
          ]
        }
      ]
    },
    {
      "cell_type": "markdown",
      "source": [
        "#TRAINING FINALE\n"
      ],
      "metadata": {
        "id": "JkFxkHB7tzo0"
      }
    },
    {
      "cell_type": "code",
      "source": [
        "lr = GBTRegressor(featuresCol = \"features\", labelCol=\"label\", maxIter=100, stepSize=0.01)\n",
        "lr_model = lr.fit(df)"
      ],
      "metadata": {
        "id": "kosoe-hcupiO"
      },
      "execution_count": null,
      "outputs": []
    },
    {
      "cell_type": "markdown",
      "source": [
        "#Testing"
      ],
      "metadata": {
        "id": "-M9r_5sbvAlw"
      }
    },
    {
      "cell_type": "code",
      "source": [
        "with open(\"/content/drive/MyDrive/KPMG/RegressionDatasetTest_finale.xlsx\", 'rb') as fp:\n",
        "    df = pd.read_excel(fp)"
      ],
      "metadata": {
        "id": "53sCtSPlw07v"
      },
      "execution_count": null,
      "outputs": []
    },
    {
      "cell_type": "code",
      "source": [
        "df=df.to_dict('records')"
      ],
      "metadata": {
        "id": "kazPe4PGxbV6"
      },
      "execution_count": null,
      "outputs": []
    },
    {
      "cell_type": "code",
      "source": [
        "import json\n",
        "\n",
        "path = \"/content/drive/MyDrive/KPMG/\"\n",
        "\n",
        "with open(path + 'RegressionDataset_Test.json', 'w') as jsonfile:\n",
        "    json.dump(df, jsonfile)"
      ],
      "metadata": {
        "id": "vi99TBOSxf-v"
      },
      "execution_count": null,
      "outputs": []
    },
    {
      "cell_type": "code",
      "source": [
        "# Read JSON file into dataframe\n",
        "path = \"/content/drive/MyDrive/KPMG/\"\n",
        "\n",
        "df_spark = spark.read.json(path + 'RegressionDataset_Test.json')\n",
        "df_spark.printSchema()\n",
        "df_spark.show()"
      ],
      "metadata": {
        "colab": {
          "base_uri": "https://localhost:8080/"
        },
        "id": "s4pNmqKLxn8B",
        "outputId": "0f464b01-10cf-4c2c-ac37-809e6c712424"
      },
      "execution_count": null,
      "outputs": [
        {
          "output_type": "stream",
          "name": "stdout",
          "text": [
            "root\n",
            " |-- AnnoAccademico: string (nullable = true)\n",
            " |-- AteneiP: long (nullable = true)\n",
            " |-- AteneiR: long (nullable = true)\n",
            " |-- Ateneo: string (nullable = true)\n",
            " |-- FuoriSede: long (nullable = true)\n",
            " |-- Immatricolati: long (nullable = true)\n",
            " |-- PopolazioneP: long (nullable = true)\n",
            " |-- PopolazioneR: long (nullable = true)\n",
            "\n",
            "+--------------+-------+-------+----------------+---------+-------------+------------+------------+\n",
            "|AnnoAccademico|AteneiP|AteneiR|          Ateneo|FuoriSede|Immatricolati|PopolazioneP|PopolazioneR|\n",
            "+--------------+-------+-------+----------------+---------+-------------+------------+------------+\n",
            "|     2021/2022|      1|      1|           Aosta|       77|          246|      123041|      123704|\n",
            "|     2022/2023|      1|      1|           Aosta|       81|          248|      122745|      123408|\n",
            "|     2023/2024|      1|      1|           Aosta|       85|          250|      122449|      123112|\n",
            "|     2024/2025|      1|      1|           Aosta|       89|          252|      122153|      122816|\n",
            "|     2025/2026|      1|      1|           Aosta|       93|          254|      121857|      122520|\n",
            "|     2021/2022|      2|      3|            Bari|     3132|         7548|     1222090|     3918389|\n",
            "|     2022/2023|      2|      3|            Bari|     3053|         7401|     1219424|     3902778|\n",
            "|     2023/2024|      2|      3|            Bari|     2974|         7254|     1216758|     3887167|\n",
            "|     2024/2025|      2|      3|            Bari|     2895|         7107|     1214092|     3871556|\n",
            "|     2025/2026|      2|      3|            Bari|     2816|         6960|     1211426|     3855945|\n",
            "|     2021/2022|      2|      3|Bari Politecnico|      765|         1898|     1222090|     3840334|\n",
            "|     2022/2023|      2|      3|Bari Politecnico|      763|         1906|     1219424|     3824723|\n",
            "|     2023/2024|      2|      3|Bari Politecnico|      761|         1914|     1216758|     3809112|\n",
            "|     2024/2025|      2|      3|Bari Politecnico|      759|         1922|     1214092|     3793501|\n",
            "|     2025/2026|      2|      3|Bari Politecnico|      757|         1930|     1211426|     3777890|\n",
            "|     2021/2022|      1|      1|      Basilicata|      155|          949|      536237|      541239|\n",
            "|     2022/2023|      1|      1|      Basilicata|      153|          938|      532475|      537478|\n",
            "|     2023/2024|      1|      1|      Basilicata|      151|          927|      528713|      533717|\n",
            "|     2024/2025|      1|      1|      Basilicata|      149|          916|      524951|      529956|\n",
            "|     2025/2026|      1|      1|      Basilicata|      147|          905|      521189|      526195|\n",
            "+--------------+-------+-------+----------------+---------+-------------+------------+------------+\n",
            "only showing top 20 rows\n",
            "\n"
          ]
        }
      ]
    },
    {
      "cell_type": "code",
      "source": [
        "df_spark=df_spark.na.drop()"
      ],
      "metadata": {
        "id": "nLrAozfMxuKt"
      },
      "execution_count": null,
      "outputs": []
    },
    {
      "cell_type": "code",
      "source": [
        "from pyspark.sql.functions import col, split\n",
        "df = df_spark.withColumn(\"Ateneo_Array\", split(col(\"Ateneo\"),\" \"))\n",
        "df.show()"
      ],
      "metadata": {
        "colab": {
          "base_uri": "https://localhost:8080/"
        },
        "id": "tJ3z35Fixx6g",
        "outputId": "7eea96ba-0b0e-4d67-b4ad-805b50ca8551"
      },
      "execution_count": null,
      "outputs": [
        {
          "output_type": "stream",
          "name": "stdout",
          "text": [
            "+--------------+-------+-------+----------------+---------+-------------+------------+------------+-------------------+\n",
            "|AnnoAccademico|AteneiP|AteneiR|          Ateneo|FuoriSede|Immatricolati|PopolazioneP|PopolazioneR|       Ateneo_Array|\n",
            "+--------------+-------+-------+----------------+---------+-------------+------------+------------+-------------------+\n",
            "|     2021/2022|      1|      1|           Aosta|       77|          246|      123041|      123704|            [Aosta]|\n",
            "|     2022/2023|      1|      1|           Aosta|       81|          248|      122745|      123408|            [Aosta]|\n",
            "|     2023/2024|      1|      1|           Aosta|       85|          250|      122449|      123112|            [Aosta]|\n",
            "|     2024/2025|      1|      1|           Aosta|       89|          252|      122153|      122816|            [Aosta]|\n",
            "|     2025/2026|      1|      1|           Aosta|       93|          254|      121857|      122520|            [Aosta]|\n",
            "|     2021/2022|      2|      3|            Bari|     3132|         7548|     1222090|     3918389|             [Bari]|\n",
            "|     2022/2023|      2|      3|            Bari|     3053|         7401|     1219424|     3902778|             [Bari]|\n",
            "|     2023/2024|      2|      3|            Bari|     2974|         7254|     1216758|     3887167|             [Bari]|\n",
            "|     2024/2025|      2|      3|            Bari|     2895|         7107|     1214092|     3871556|             [Bari]|\n",
            "|     2025/2026|      2|      3|            Bari|     2816|         6960|     1211426|     3855945|             [Bari]|\n",
            "|     2021/2022|      2|      3|Bari Politecnico|      765|         1898|     1222090|     3840334|[Bari, Politecnico]|\n",
            "|     2022/2023|      2|      3|Bari Politecnico|      763|         1906|     1219424|     3824723|[Bari, Politecnico]|\n",
            "|     2023/2024|      2|      3|Bari Politecnico|      761|         1914|     1216758|     3809112|[Bari, Politecnico]|\n",
            "|     2024/2025|      2|      3|Bari Politecnico|      759|         1922|     1214092|     3793501|[Bari, Politecnico]|\n",
            "|     2025/2026|      2|      3|Bari Politecnico|      757|         1930|     1211426|     3777890|[Bari, Politecnico]|\n",
            "|     2021/2022|      1|      1|      Basilicata|      155|          949|      536237|      541239|       [Basilicata]|\n",
            "|     2022/2023|      1|      1|      Basilicata|      153|          938|      532475|      537478|       [Basilicata]|\n",
            "|     2023/2024|      1|      1|      Basilicata|      151|          927|      528713|      533717|       [Basilicata]|\n",
            "|     2024/2025|      1|      1|      Basilicata|      149|          916|      524951|      529956|       [Basilicata]|\n",
            "|     2025/2026|      1|      1|      Basilicata|      147|          905|      521189|      526195|       [Basilicata]|\n",
            "+--------------+-------+-------+----------------+---------+-------------+------------+------------+-------------------+\n",
            "only showing top 20 rows\n",
            "\n"
          ]
        }
      ]
    },
    {
      "cell_type": "code",
      "source": [
        "from pyspark.sql.functions import col, split\n",
        "df = df_spark.withColumn(\"Ateneo_Array\", split(col(\"Ateneo\"),\" \"))\n",
        "df = df.withColumn('AnnoAccademico_Array', split(col(\"AnnoAccademico\"),\" \"))\n",
        "df.show()\n",
        "\n",
        "#Import Spark CountVectorizer\n",
        "from pyspark.ml.feature import CountVectorizer\n",
        "\n",
        "# Initialize a CountVectorizer.\n",
        "colorVectorizer = CountVectorizer(inputCol=\"Ateneo_Array\", outputCol=\"Ateneo_OneHotEncoded\", vocabSize=4, minDF=1.0)\n",
        "\n",
        "#Get a VectorizerModel\n",
        "colorVectorizer_model = colorVectorizer.fit(df)\n",
        "\n",
        "df_ohe = colorVectorizer_model.transform(df)\n",
        "df_ohe.show(truncate=False)\n",
        "\n"
      ],
      "metadata": {
        "colab": {
          "base_uri": "https://localhost:8080/"
        },
        "id": "RTq0OWfUx-CJ",
        "outputId": "9ee2166d-7e52-414d-8467-7e917abcfb1e"
      },
      "execution_count": null,
      "outputs": [
        {
          "output_type": "stream",
          "name": "stdout",
          "text": [
            "+--------------+-------+-------+----------------+---------+-------------+------------+------------+-------------------+--------------------+\n",
            "|AnnoAccademico|AteneiP|AteneiR|          Ateneo|FuoriSede|Immatricolati|PopolazioneP|PopolazioneR|       Ateneo_Array|AnnoAccademico_Array|\n",
            "+--------------+-------+-------+----------------+---------+-------------+------------+------------+-------------------+--------------------+\n",
            "|     2021/2022|      1|      1|           Aosta|       77|          246|      123041|      123704|            [Aosta]|         [2021/2022]|\n",
            "|     2022/2023|      1|      1|           Aosta|       81|          248|      122745|      123408|            [Aosta]|         [2022/2023]|\n",
            "|     2023/2024|      1|      1|           Aosta|       85|          250|      122449|      123112|            [Aosta]|         [2023/2024]|\n",
            "|     2024/2025|      1|      1|           Aosta|       89|          252|      122153|      122816|            [Aosta]|         [2024/2025]|\n",
            "|     2025/2026|      1|      1|           Aosta|       93|          254|      121857|      122520|            [Aosta]|         [2025/2026]|\n",
            "|     2021/2022|      2|      3|            Bari|     3132|         7548|     1222090|     3918389|             [Bari]|         [2021/2022]|\n",
            "|     2022/2023|      2|      3|            Bari|     3053|         7401|     1219424|     3902778|             [Bari]|         [2022/2023]|\n",
            "|     2023/2024|      2|      3|            Bari|     2974|         7254|     1216758|     3887167|             [Bari]|         [2023/2024]|\n",
            "|     2024/2025|      2|      3|            Bari|     2895|         7107|     1214092|     3871556|             [Bari]|         [2024/2025]|\n",
            "|     2025/2026|      2|      3|            Bari|     2816|         6960|     1211426|     3855945|             [Bari]|         [2025/2026]|\n",
            "|     2021/2022|      2|      3|Bari Politecnico|      765|         1898|     1222090|     3840334|[Bari, Politecnico]|         [2021/2022]|\n",
            "|     2022/2023|      2|      3|Bari Politecnico|      763|         1906|     1219424|     3824723|[Bari, Politecnico]|         [2022/2023]|\n",
            "|     2023/2024|      2|      3|Bari Politecnico|      761|         1914|     1216758|     3809112|[Bari, Politecnico]|         [2023/2024]|\n",
            "|     2024/2025|      2|      3|Bari Politecnico|      759|         1922|     1214092|     3793501|[Bari, Politecnico]|         [2024/2025]|\n",
            "|     2025/2026|      2|      3|Bari Politecnico|      757|         1930|     1211426|     3777890|[Bari, Politecnico]|         [2025/2026]|\n",
            "|     2021/2022|      1|      1|      Basilicata|      155|          949|      536237|      541239|       [Basilicata]|         [2021/2022]|\n",
            "|     2022/2023|      1|      1|      Basilicata|      153|          938|      532475|      537478|       [Basilicata]|         [2022/2023]|\n",
            "|     2023/2024|      1|      1|      Basilicata|      151|          927|      528713|      533717|       [Basilicata]|         [2023/2024]|\n",
            "|     2024/2025|      1|      1|      Basilicata|      149|          916|      524951|      529956|       [Basilicata]|         [2024/2025]|\n",
            "|     2025/2026|      1|      1|      Basilicata|      147|          905|      521189|      526195|       [Basilicata]|         [2025/2026]|\n",
            "+--------------+-------+-------+----------------+---------+-------------+------------+------------+-------------------+--------------------+\n",
            "only showing top 20 rows\n",
            "\n",
            "+--------------+-------+-------+----------------+---------+-------------+------------+------------+-------------------+--------------------+--------------------+\n",
            "|AnnoAccademico|AteneiP|AteneiR|Ateneo          |FuoriSede|Immatricolati|PopolazioneP|PopolazioneR|Ateneo_Array       |AnnoAccademico_Array|Ateneo_OneHotEncoded|\n",
            "+--------------+-------+-------+----------------+---------+-------------+------------+------------+-------------------+--------------------+--------------------+\n",
            "|2021/2022     |1      |1      |Aosta           |77       |246          |123041      |123704      |[Aosta]            |[2021/2022]         |(4,[],[])           |\n",
            "|2022/2023     |1      |1      |Aosta           |81       |248          |122745      |123408      |[Aosta]            |[2022/2023]         |(4,[],[])           |\n",
            "|2023/2024     |1      |1      |Aosta           |85       |250          |122449      |123112      |[Aosta]            |[2023/2024]         |(4,[],[])           |\n",
            "|2024/2025     |1      |1      |Aosta           |89       |252          |122153      |122816      |[Aosta]            |[2024/2025]         |(4,[],[])           |\n",
            "|2025/2026     |1      |1      |Aosta           |93       |254          |121857      |122520      |[Aosta]            |[2025/2026]         |(4,[],[])           |\n",
            "|2021/2022     |2      |3      |Bari            |3132     |7548         |1222090     |3918389     |[Bari]             |[2021/2022]         |(4,[],[])           |\n",
            "|2022/2023     |2      |3      |Bari            |3053     |7401         |1219424     |3902778     |[Bari]             |[2022/2023]         |(4,[],[])           |\n",
            "|2023/2024     |2      |3      |Bari            |2974     |7254         |1216758     |3887167     |[Bari]             |[2023/2024]         |(4,[],[])           |\n",
            "|2024/2025     |2      |3      |Bari            |2895     |7107         |1214092     |3871556     |[Bari]             |[2024/2025]         |(4,[],[])           |\n",
            "|2025/2026     |2      |3      |Bari            |2816     |6960         |1211426     |3855945     |[Bari]             |[2025/2026]         |(4,[],[])           |\n",
            "|2021/2022     |2      |3      |Bari Politecnico|765      |1898         |1222090     |3840334     |[Bari, Politecnico]|[2021/2022]         |(4,[3],[1.0])       |\n",
            "|2022/2023     |2      |3      |Bari Politecnico|763      |1906         |1219424     |3824723     |[Bari, Politecnico]|[2022/2023]         |(4,[3],[1.0])       |\n",
            "|2023/2024     |2      |3      |Bari Politecnico|761      |1914         |1216758     |3809112     |[Bari, Politecnico]|[2023/2024]         |(4,[3],[1.0])       |\n",
            "|2024/2025     |2      |3      |Bari Politecnico|759      |1922         |1214092     |3793501     |[Bari, Politecnico]|[2024/2025]         |(4,[3],[1.0])       |\n",
            "|2025/2026     |2      |3      |Bari Politecnico|757      |1930         |1211426     |3777890     |[Bari, Politecnico]|[2025/2026]         |(4,[3],[1.0])       |\n",
            "|2021/2022     |1      |1      |Basilicata      |155      |949          |536237      |541239      |[Basilicata]       |[2021/2022]         |(4,[],[])           |\n",
            "|2022/2023     |1      |1      |Basilicata      |153      |938          |532475      |537478      |[Basilicata]       |[2022/2023]         |(4,[],[])           |\n",
            "|2023/2024     |1      |1      |Basilicata      |151      |927          |528713      |533717      |[Basilicata]       |[2023/2024]         |(4,[],[])           |\n",
            "|2024/2025     |1      |1      |Basilicata      |149      |916          |524951      |529956      |[Basilicata]       |[2024/2025]         |(4,[],[])           |\n",
            "|2025/2026     |1      |1      |Basilicata      |147      |905          |521189      |526195      |[Basilicata]       |[2025/2026]         |(4,[],[])           |\n",
            "+--------------+-------+-------+----------------+---------+-------------+------------+------------+-------------------+--------------------+--------------------+\n",
            "only showing top 20 rows\n",
            "\n"
          ]
        }
      ]
    },
    {
      "cell_type": "code",
      "source": [
        "#Import Spark CountVectorizer\n",
        "from pyspark.ml.feature import CountVectorizer\n",
        "\n",
        "# Initialize a CountVectorizer.\n",
        "colorVectorizer = CountVectorizer(inputCol=\"AnnoAccademico_Array\", outputCol=\"AnnoAccademico_OneHotEncoded\", vocabSize=4, minDF=1.0)\n",
        "\n",
        "#Get a VectorizerModel\n",
        "colorVectorizer_model = colorVectorizer.fit(df)\n",
        "\n",
        "df_ohe = colorVectorizer_model.transform(df_ohe)\n",
        "df_ohe.show(truncate=False)"
      ],
      "metadata": {
        "colab": {
          "base_uri": "https://localhost:8080/"
        },
        "id": "Qq51GnuHyy1z",
        "outputId": "36ab271d-5a90-4e42-bab8-bffbea871a6a"
      },
      "execution_count": null,
      "outputs": [
        {
          "output_type": "stream",
          "name": "stdout",
          "text": [
            "+--------------+-------+-------+----------------+---------+-------------+------------+------------+-------------------+--------------------+--------------------+----------------------------+\n",
            "|AnnoAccademico|AteneiP|AteneiR|Ateneo          |FuoriSede|Immatricolati|PopolazioneP|PopolazioneR|Ateneo_Array       |AnnoAccademico_Array|Ateneo_OneHotEncoded|AnnoAccademico_OneHotEncoded|\n",
            "+--------------+-------+-------+----------------+---------+-------------+------------+------------+-------------------+--------------------+--------------------+----------------------------+\n",
            "|2021/2022     |1      |1      |Aosta           |77       |246          |123041      |123704      |[Aosta]            |[2021/2022]         |(4,[],[])           |(4,[1],[1.0])               |\n",
            "|2022/2023     |1      |1      |Aosta           |81       |248          |122745      |123408      |[Aosta]            |[2022/2023]         |(4,[],[])           |(4,[2],[1.0])               |\n",
            "|2023/2024     |1      |1      |Aosta           |85       |250          |122449      |123112      |[Aosta]            |[2023/2024]         |(4,[],[])           |(4,[0],[1.0])               |\n",
            "|2024/2025     |1      |1      |Aosta           |89       |252          |122153      |122816      |[Aosta]            |[2024/2025]         |(4,[],[])           |(4,[],[])                   |\n",
            "|2025/2026     |1      |1      |Aosta           |93       |254          |121857      |122520      |[Aosta]            |[2025/2026]         |(4,[],[])           |(4,[3],[1.0])               |\n",
            "|2021/2022     |2      |3      |Bari            |3132     |7548         |1222090     |3918389     |[Bari]             |[2021/2022]         |(4,[],[])           |(4,[1],[1.0])               |\n",
            "|2022/2023     |2      |3      |Bari            |3053     |7401         |1219424     |3902778     |[Bari]             |[2022/2023]         |(4,[],[])           |(4,[2],[1.0])               |\n",
            "|2023/2024     |2      |3      |Bari            |2974     |7254         |1216758     |3887167     |[Bari]             |[2023/2024]         |(4,[],[])           |(4,[0],[1.0])               |\n",
            "|2024/2025     |2      |3      |Bari            |2895     |7107         |1214092     |3871556     |[Bari]             |[2024/2025]         |(4,[],[])           |(4,[],[])                   |\n",
            "|2025/2026     |2      |3      |Bari            |2816     |6960         |1211426     |3855945     |[Bari]             |[2025/2026]         |(4,[],[])           |(4,[3],[1.0])               |\n",
            "|2021/2022     |2      |3      |Bari Politecnico|765      |1898         |1222090     |3840334     |[Bari, Politecnico]|[2021/2022]         |(4,[3],[1.0])       |(4,[1],[1.0])               |\n",
            "|2022/2023     |2      |3      |Bari Politecnico|763      |1906         |1219424     |3824723     |[Bari, Politecnico]|[2022/2023]         |(4,[3],[1.0])       |(4,[2],[1.0])               |\n",
            "|2023/2024     |2      |3      |Bari Politecnico|761      |1914         |1216758     |3809112     |[Bari, Politecnico]|[2023/2024]         |(4,[3],[1.0])       |(4,[0],[1.0])               |\n",
            "|2024/2025     |2      |3      |Bari Politecnico|759      |1922         |1214092     |3793501     |[Bari, Politecnico]|[2024/2025]         |(4,[3],[1.0])       |(4,[],[])                   |\n",
            "|2025/2026     |2      |3      |Bari Politecnico|757      |1930         |1211426     |3777890     |[Bari, Politecnico]|[2025/2026]         |(4,[3],[1.0])       |(4,[3],[1.0])               |\n",
            "|2021/2022     |1      |1      |Basilicata      |155      |949          |536237      |541239      |[Basilicata]       |[2021/2022]         |(4,[],[])           |(4,[1],[1.0])               |\n",
            "|2022/2023     |1      |1      |Basilicata      |153      |938          |532475      |537478      |[Basilicata]       |[2022/2023]         |(4,[],[])           |(4,[2],[1.0])               |\n",
            "|2023/2024     |1      |1      |Basilicata      |151      |927          |528713      |533717      |[Basilicata]       |[2023/2024]         |(4,[],[])           |(4,[0],[1.0])               |\n",
            "|2024/2025     |1      |1      |Basilicata      |149      |916          |524951      |529956      |[Basilicata]       |[2024/2025]         |(4,[],[])           |(4,[],[])                   |\n",
            "|2025/2026     |1      |1      |Basilicata      |147      |905          |521189      |526195      |[Basilicata]       |[2025/2026]         |(4,[],[])           |(4,[3],[1.0])               |\n",
            "+--------------+-------+-------+----------------+---------+-------------+------------+------------+-------------------+--------------------+--------------------+----------------------------+\n",
            "only showing top 20 rows\n",
            "\n"
          ]
        }
      ]
    },
    {
      "cell_type": "code",
      "source": [
        "df_ohe=df_ohe.drop('Ateneo')\n",
        "df_ohe=df_ohe.drop('AnnoAccademico')\n",
        "df_ohe=df_ohe.drop('Ateneo_Array')\n",
        "df_ohe=df_ohe.drop('AnnoAccademico_Array')"
      ],
      "metadata": {
        "id": "uBzwbAH6yyrH"
      },
      "execution_count": null,
      "outputs": []
    },
    {
      "cell_type": "code",
      "source": [
        "from pyspark.ml.feature import VectorAssembler,StringIndexer\n",
        "\n",
        "columns=df_ohe.columns\n",
        "columns.remove('Immatricolati')\n",
        "assembler=VectorAssembler(inputCols=columns, outputCol='features_prescaled')\n",
        "df=assembler.transform(df_ohe)\n",
        "\n",
        "# Normalizing each feature to have unit standard deviation\n",
        "scaler = StandardScaler(inputCol=\"features_prescaled\", outputCol=\"features\", withStd=True, withMean=False)\n",
        "scalerModel = scaler.fit(df)\n",
        "# Normalize each feature to have unit standard deviation.\n",
        "df = scalerModel.transform(df)\n",
        "\n",
        "stringIndexer=StringIndexer(inputCol='Immatricolati',outputCol='label')\n",
        "si_model=stringIndexer.fit(df)\n",
        "df=si_model.transform(df)"
      ],
      "metadata": {
        "id": "jt3MRjWWy-to"
      },
      "execution_count": null,
      "outputs": []
    },
    {
      "cell_type": "code",
      "source": [
        "predictions = lr_model.transform(df)\n",
        "predictions.select(\"prediction\", \"label\", \"features\").show()"
      ],
      "metadata": {
        "colab": {
          "base_uri": "https://localhost:8080/"
        },
        "id": "xOFsYUKTu5Rx",
        "outputId": "5392b97a-6b2e-4dfe-fc2c-83b149b4f1a3"
      },
      "execution_count": null,
      "outputs": [
        {
          "output_type": "stream",
          "name": "stdout",
          "text": [
            "+------------------+-----+--------------------+\n",
            "|        prediction|label|            features|\n",
            "+------------------+-----+--------------------+\n",
            "|54.383610330079485| 91.0|(13,[0,1,2,3,4,10...|\n",
            "| 185.4469393195335| 93.0|(13,[0,1,2,3,4,11...|\n",
            "| 51.94209601468587| 95.0|(13,[0,1,2,3,4,9]...|\n",
            "| 51.94209601468587| 96.0|(13,[0,1,2,3,4],[...|\n",
            "|  52.9577491748624| 98.0|(13,[0,1,2,3,4,12...|\n",
            "|  529.555755325561|250.0|(13,[0,1,2,3,4,10...|\n",
            "| 525.2748927221161|246.0|(13,[0,1,2,3,4,11...|\n",
            "| 526.9773614497258|242.0|(13,[0,1,2,3,4,9]...|\n",
            "| 525.2748927221161|241.0|(13,[0,1,2,3,4],[...|\n",
            "| 513.9923196845755|239.0|(13,[0,1,2,3,4,12...|\n",
            "|184.86776682960377| 63.0|(13,[0,1,2,3,4,8,...|\n",
            "|200.29802181539995| 65.0|(13,[0,1,2,3,4,8,...|\n",
            "|203.14213626700317| 67.0|(13,[0,1,2,3,4,8,...|\n",
            "|212.45349987464326|  0.0|(13,[0,1,2,3,4,8]...|\n",
            "| 222.8647988864094| 69.0|(13,[0,1,2,3,4,8,...|\n",
            "| 134.2547326256147|281.0|(13,[0,1,2,3,4,10...|\n",
            "|233.60602096569392|279.0|(13,[0,1,2,3,4,11...|\n",
            "|227.15458328400751|278.0|(13,[0,1,2,3,4,9]...|\n",
            "|225.93780497275588|277.0|(13,[0,1,2,3,4],[...|\n",
            "| 227.5704102750548|276.0|(13,[0,1,2,3,4,12...|\n",
            "+------------------+-----+--------------------+\n",
            "only showing top 20 rows\n",
            "\n"
          ]
        }
      ]
    }
  ],
  "metadata": {
    "kernelspec": {
      "display_name": "Python 3 (ipykernel)",
      "language": "python",
      "name": "python3"
    },
    "language_info": {
      "codemirror_mode": {
        "name": "ipython",
        "version": 3
      },
      "file_extension": ".py",
      "mimetype": "text/x-python",
      "name": "python",
      "nbconvert_exporter": "python",
      "pygments_lexer": "ipython3",
      "version": "3.10.2"
    },
    "colab": {
      "name": "KPMG_PYSPARK",
      "provenance": [],
      "collapsed_sections": [
        "sx1q34EFwEta",
        "Q93hw2RCwEtf",
        "YPj2cBoDwEth",
        "7dXpiVENwEtk",
        "672xuPkGwEtk",
        "znN-sQ2dwEtl",
        "3aHqJTlOwEtl",
        "ehVRee1wwEtn",
        "bHq5ET5QwEto",
        "LeO4Lfep-lr4"
      ]
    }
  },
  "nbformat": 4,
  "nbformat_minor": 0
}